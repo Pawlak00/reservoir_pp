{
  "cells": [
    {
      "cell_type": "code",
      "execution_count": null,
      "metadata": {
        "id": "zOkMWs1s6egz"
      },
      "outputs": [],
      "source": [
        "import pandas as pd\n",
        "import numpy as np\n",
        "import matplotlib.pyplot as plt\n",
        "from datetime import timedelta\n",
        "import pickle\n",
        "from sklearn import preprocessing"
      ]
    },
    {
      "cell_type": "code",
      "execution_count": null,
      "metadata": {
        "colab": {
          "base_uri": "https://localhost:8080/"
        },
        "id": "UqX1FvQl6qEP",
        "outputId": "42e49719-fe39-4e8a-f89c-c9c9df56ce33"
      },
      "outputs": [
        {
          "output_type": "stream",
          "name": "stdout",
          "text": [
            "Mounted at /content/drive\n"
          ]
        }
      ],
      "source": [
        "from google.colab import drive\n",
        "drive.mount('/content/drive')"
      ]
    },
    {
      "cell_type": "code",
      "execution_count": null,
      "metadata": {
        "id": "wIutPsEM6waz"
      },
      "outputs": [],
      "source": [
        "metrics_df = pd.read_csv('/content/drive/MyDrive/df.csv')"
      ]
    },
    {
      "cell_type": "code",
      "execution_count": null,
      "metadata": {
        "colab": {
          "base_uri": "https://localhost:8080/",
          "height": 258
        },
        "id": "uaCa5Y836ehi",
        "outputId": "d5b285f3-479b-45ce-c3d8-ce30ab7939d9"
      },
      "outputs": [
        {
          "output_type": "execute_result",
          "data": {
            "text/plain": [
              "   Unnamed: 0                   ds  jobs    cpu     memory  io_read  \\\n",
              "0           0  2020-04-29 01:00:43     0    0.0          0      0.0   \n",
              "1           1  2020-04-29 01:00:53     2  189.0  685977600      0.0   \n",
              "\n",
              "   io_readReal  io_readSyscalls  io_write  io_writeCancelled  ...  \\\n",
              "0          0.0              0.0       0.0                0.0  ...   \n",
              "1          0.0              0.0       0.0                0.0  ...   \n",
              "\n",
              "   network_rxPackets  network_txBytes  network_txCarrier  network_txColls  \\\n",
              "0                0.0              0.0                  0                0   \n",
              "1                0.0              0.0                  0                0   \n",
              "\n",
              "   network_txCompressed  network_txDrop  network_txErrors  network_txFifo  \\\n",
              "0                     0               0                 0               0   \n",
              "1                     0               0                 0               0   \n",
              "\n",
              "   network_txPackets  idx  \n",
              "0                0.0   10  \n",
              "1                0.0   10  \n",
              "\n",
              "[2 rows x 29 columns]"
            ],
            "text/html": [
              "\n",
              "  <div id=\"df-f4e2de4b-1254-40f5-bd36-3ab0c109af69\">\n",
              "    <div class=\"colab-df-container\">\n",
              "      <div>\n",
              "<style scoped>\n",
              "    .dataframe tbody tr th:only-of-type {\n",
              "        vertical-align: middle;\n",
              "    }\n",
              "\n",
              "    .dataframe tbody tr th {\n",
              "        vertical-align: top;\n",
              "    }\n",
              "\n",
              "    .dataframe thead th {\n",
              "        text-align: right;\n",
              "    }\n",
              "</style>\n",
              "<table border=\"1\" class=\"dataframe\">\n",
              "  <thead>\n",
              "    <tr style=\"text-align: right;\">\n",
              "      <th></th>\n",
              "      <th>Unnamed: 0</th>\n",
              "      <th>ds</th>\n",
              "      <th>jobs</th>\n",
              "      <th>cpu</th>\n",
              "      <th>memory</th>\n",
              "      <th>io_read</th>\n",
              "      <th>io_readReal</th>\n",
              "      <th>io_readSyscalls</th>\n",
              "      <th>io_write</th>\n",
              "      <th>io_writeCancelled</th>\n",
              "      <th>...</th>\n",
              "      <th>network_rxPackets</th>\n",
              "      <th>network_txBytes</th>\n",
              "      <th>network_txCarrier</th>\n",
              "      <th>network_txColls</th>\n",
              "      <th>network_txCompressed</th>\n",
              "      <th>network_txDrop</th>\n",
              "      <th>network_txErrors</th>\n",
              "      <th>network_txFifo</th>\n",
              "      <th>network_txPackets</th>\n",
              "      <th>idx</th>\n",
              "    </tr>\n",
              "  </thead>\n",
              "  <tbody>\n",
              "    <tr>\n",
              "      <th>0</th>\n",
              "      <td>0</td>\n",
              "      <td>2020-04-29 01:00:43</td>\n",
              "      <td>0</td>\n",
              "      <td>0.0</td>\n",
              "      <td>0</td>\n",
              "      <td>0.0</td>\n",
              "      <td>0.0</td>\n",
              "      <td>0.0</td>\n",
              "      <td>0.0</td>\n",
              "      <td>0.0</td>\n",
              "      <td>...</td>\n",
              "      <td>0.0</td>\n",
              "      <td>0.0</td>\n",
              "      <td>0</td>\n",
              "      <td>0</td>\n",
              "      <td>0</td>\n",
              "      <td>0</td>\n",
              "      <td>0</td>\n",
              "      <td>0</td>\n",
              "      <td>0.0</td>\n",
              "      <td>10</td>\n",
              "    </tr>\n",
              "    <tr>\n",
              "      <th>1</th>\n",
              "      <td>1</td>\n",
              "      <td>2020-04-29 01:00:53</td>\n",
              "      <td>2</td>\n",
              "      <td>189.0</td>\n",
              "      <td>685977600</td>\n",
              "      <td>0.0</td>\n",
              "      <td>0.0</td>\n",
              "      <td>0.0</td>\n",
              "      <td>0.0</td>\n",
              "      <td>0.0</td>\n",
              "      <td>...</td>\n",
              "      <td>0.0</td>\n",
              "      <td>0.0</td>\n",
              "      <td>0</td>\n",
              "      <td>0</td>\n",
              "      <td>0</td>\n",
              "      <td>0</td>\n",
              "      <td>0</td>\n",
              "      <td>0</td>\n",
              "      <td>0.0</td>\n",
              "      <td>10</td>\n",
              "    </tr>\n",
              "  </tbody>\n",
              "</table>\n",
              "<p>2 rows × 29 columns</p>\n",
              "</div>\n",
              "      <button class=\"colab-df-convert\" onclick=\"convertToInteractive('df-f4e2de4b-1254-40f5-bd36-3ab0c109af69')\"\n",
              "              title=\"Convert this dataframe to an interactive table.\"\n",
              "              style=\"display:none;\">\n",
              "        \n",
              "  <svg xmlns=\"http://www.w3.org/2000/svg\" height=\"24px\"viewBox=\"0 0 24 24\"\n",
              "       width=\"24px\">\n",
              "    <path d=\"M0 0h24v24H0V0z\" fill=\"none\"/>\n",
              "    <path d=\"M18.56 5.44l.94 2.06.94-2.06 2.06-.94-2.06-.94-.94-2.06-.94 2.06-2.06.94zm-11 1L8.5 8.5l.94-2.06 2.06-.94-2.06-.94L8.5 2.5l-.94 2.06-2.06.94zm10 10l.94 2.06.94-2.06 2.06-.94-2.06-.94-.94-2.06-.94 2.06-2.06.94z\"/><path d=\"M17.41 7.96l-1.37-1.37c-.4-.4-.92-.59-1.43-.59-.52 0-1.04.2-1.43.59L10.3 9.45l-7.72 7.72c-.78.78-.78 2.05 0 2.83L4 21.41c.39.39.9.59 1.41.59.51 0 1.02-.2 1.41-.59l7.78-7.78 2.81-2.81c.8-.78.8-2.07 0-2.86zM5.41 20L4 18.59l7.72-7.72 1.47 1.35L5.41 20z\"/>\n",
              "  </svg>\n",
              "      </button>\n",
              "      \n",
              "  <style>\n",
              "    .colab-df-container {\n",
              "      display:flex;\n",
              "      flex-wrap:wrap;\n",
              "      gap: 12px;\n",
              "    }\n",
              "\n",
              "    .colab-df-convert {\n",
              "      background-color: #E8F0FE;\n",
              "      border: none;\n",
              "      border-radius: 50%;\n",
              "      cursor: pointer;\n",
              "      display: none;\n",
              "      fill: #1967D2;\n",
              "      height: 32px;\n",
              "      padding: 0 0 0 0;\n",
              "      width: 32px;\n",
              "    }\n",
              "\n",
              "    .colab-df-convert:hover {\n",
              "      background-color: #E2EBFA;\n",
              "      box-shadow: 0px 1px 2px rgba(60, 64, 67, 0.3), 0px 1px 3px 1px rgba(60, 64, 67, 0.15);\n",
              "      fill: #174EA6;\n",
              "    }\n",
              "\n",
              "    [theme=dark] .colab-df-convert {\n",
              "      background-color: #3B4455;\n",
              "      fill: #D2E3FC;\n",
              "    }\n",
              "\n",
              "    [theme=dark] .colab-df-convert:hover {\n",
              "      background-color: #434B5C;\n",
              "      box-shadow: 0px 1px 3px 1px rgba(0, 0, 0, 0.15);\n",
              "      filter: drop-shadow(0px 1px 2px rgba(0, 0, 0, 0.3));\n",
              "      fill: #FFFFFF;\n",
              "    }\n",
              "  </style>\n",
              "\n",
              "      <script>\n",
              "        const buttonEl =\n",
              "          document.querySelector('#df-f4e2de4b-1254-40f5-bd36-3ab0c109af69 button.colab-df-convert');\n",
              "        buttonEl.style.display =\n",
              "          google.colab.kernel.accessAllowed ? 'block' : 'none';\n",
              "\n",
              "        async function convertToInteractive(key) {\n",
              "          const element = document.querySelector('#df-f4e2de4b-1254-40f5-bd36-3ab0c109af69');\n",
              "          const dataTable =\n",
              "            await google.colab.kernel.invokeFunction('convertToInteractive',\n",
              "                                                     [key], {});\n",
              "          if (!dataTable) return;\n",
              "\n",
              "          const docLinkHtml = 'Like what you see? Visit the ' +\n",
              "            '<a target=\"_blank\" href=https://colab.research.google.com/notebooks/data_table.ipynb>data table notebook</a>'\n",
              "            + ' to learn more about interactive tables.';\n",
              "          element.innerHTML = '';\n",
              "          dataTable['output_type'] = 'display_data';\n",
              "          await google.colab.output.renderOutput(dataTable, element);\n",
              "          const docLink = document.createElement('div');\n",
              "          docLink.innerHTML = docLinkHtml;\n",
              "          element.appendChild(docLink);\n",
              "        }\n",
              "      </script>\n",
              "    </div>\n",
              "  </div>\n",
              "  "
            ]
          },
          "metadata": {},
          "execution_count": 4
        }
      ],
      "source": [
        "metrics_df.head(2)"
      ]
    },
    {
      "cell_type": "code",
      "execution_count": null,
      "metadata": {
        "colab": {
          "base_uri": "https://localhost:8080/"
        },
        "id": "mz9M0tDM-5FV",
        "outputId": "1b548aa5-2076-46cb-a0e8-9ac8e7350b48"
      },
      "outputs": [
        {
          "output_type": "execute_result",
          "data": {
            "text/plain": [
              "Index(['Unnamed: 0', 'ds', 'jobs', 'cpu', 'memory', 'io_read', 'io_readReal',\n",
              "       'io_readSyscalls', 'io_write', 'io_writeCancelled', 'io_writeReal',\n",
              "       'io_writeSyscalls', 'network_rxBytes', 'network_rxCompressed',\n",
              "       'network_rxDrop', 'network_rxErrors', 'network_rxFifo',\n",
              "       'network_rxFrame', 'network_rxMulticast', 'network_rxPackets',\n",
              "       'network_txBytes', 'network_txCarrier', 'network_txColls',\n",
              "       'network_txCompressed', 'network_txDrop', 'network_txErrors',\n",
              "       'network_txFifo', 'network_txPackets', 'idx'],\n",
              "      dtype='object')"
            ]
          },
          "metadata": {},
          "execution_count": 5
        }
      ],
      "source": [
        "metrics_df.columns"
      ]
    },
    {
      "cell_type": "code",
      "execution_count": null,
      "metadata": {
        "colab": {
          "base_uri": "https://localhost:8080/",
          "height": 394
        },
        "id": "ZFw8qUoh6ehj",
        "outputId": "29d770d5-b1c6-4b6b-b32f-3b06cd2336b4"
      },
      "outputs": [
        {
          "output_type": "execute_result",
          "data": {
            "text/plain": [
              "          Unnamed: 0           jobs            cpu        memory  \\\n",
              "count  111619.000000  111619.000000  111619.000000  1.116190e+05   \n",
              "mean     1296.957937       1.565943     162.937370  1.171356e+09   \n",
              "std      1380.842011       2.114672     219.114396  1.625314e+09   \n",
              "min         0.000000       0.000000       0.000000  0.000000e+00   \n",
              "25%       324.000000       1.000000      99.647931  5.082235e+08   \n",
              "50%       823.000000       1.000000     100.000000  7.306936e+08   \n",
              "75%      1828.000000       1.000000     100.500000  1.198064e+09   \n",
              "max      8148.000000      61.000000    4108.022388  4.405613e+10   \n",
              "\n",
              "            io_read   io_readReal  io_readSyscalls      io_write  \\\n",
              "count  1.116190e+05  1.116190e+05    111619.000000  1.116190e+05   \n",
              "mean   3.300518e+06  1.282914e+06       470.259116  2.049469e+05   \n",
              "std    1.325075e+07  5.856631e+06      1788.353682  2.235944e+06   \n",
              "min    0.000000e+00  0.000000e+00         0.000000  0.000000e+00   \n",
              "25%    3.499200e+04  0.000000e+00         0.711111  2.755556e+00   \n",
              "50%    6.994453e+04  0.000000e+00         1.066667  4.133333e+00   \n",
              "75%    4.427633e+05  3.495253e+05         2.288889  5.511111e+00   \n",
              "max    6.806955e+08  1.999750e+08     75784.844444  5.981062e+07   \n",
              "\n",
              "       io_writeCancelled  io_writeReal  ...  network_rxPackets  \\\n",
              "count      111619.000000  1.116190e+05  ...      111619.000000   \n",
              "mean            0.222515  2.097000e+05  ...           0.543586   \n",
              "std             8.444298  2.237911e+06  ...           2.421854   \n",
              "min             0.000000  0.000000e+00  ...           0.000000   \n",
              "25%             0.000000  4.551111e+02  ...           0.000000   \n",
              "50%             0.000000  8.192000e+02  ...           0.000000   \n",
              "75%             0.000000  9.102222e+02  ...           0.000000   \n",
              "max           358.020741  5.981107e+07  ...          94.511111   \n",
              "\n",
              "       network_txBytes  network_txCarrier  network_txColls  \\\n",
              "count    111619.000000           111619.0         111619.0   \n",
              "mean         25.334401                0.0              0.0   \n",
              "std         109.868206                0.0              0.0   \n",
              "min           0.000000                0.0              0.0   \n",
              "25%           0.000000                0.0              0.0   \n",
              "50%           0.000000                0.0              0.0   \n",
              "75%           0.000000                0.0              0.0   \n",
              "max        5098.933333                0.0              0.0   \n",
              "\n",
              "       network_txCompressed  network_txDrop  network_txErrors  network_txFifo  \\\n",
              "count              111619.0        111619.0          111619.0        111619.0   \n",
              "mean                    0.0             0.0               0.0             0.0   \n",
              "std                     0.0             0.0               0.0             0.0   \n",
              "min                     0.0             0.0               0.0             0.0   \n",
              "25%                     0.0             0.0               0.0             0.0   \n",
              "50%                     0.0             0.0               0.0             0.0   \n",
              "75%                     0.0             0.0               0.0             0.0   \n",
              "max                     0.0             0.0               0.0             0.0   \n",
              "\n",
              "       network_txPackets            idx  \n",
              "count      111619.000000  111619.000000  \n",
              "mean            0.288392     163.224335  \n",
              "std             1.244258      82.459618  \n",
              "min             0.000000      10.000000  \n",
              "25%             0.000000      79.000000  \n",
              "50%             0.000000     159.000000  \n",
              "75%             0.000000     208.000000  \n",
              "max            58.666667     317.000000  \n",
              "\n",
              "[8 rows x 28 columns]"
            ],
            "text/html": [
              "\n",
              "  <div id=\"df-f5ef5404-6f52-4927-8e62-c6cdf41e2dbc\">\n",
              "    <div class=\"colab-df-container\">\n",
              "      <div>\n",
              "<style scoped>\n",
              "    .dataframe tbody tr th:only-of-type {\n",
              "        vertical-align: middle;\n",
              "    }\n",
              "\n",
              "    .dataframe tbody tr th {\n",
              "        vertical-align: top;\n",
              "    }\n",
              "\n",
              "    .dataframe thead th {\n",
              "        text-align: right;\n",
              "    }\n",
              "</style>\n",
              "<table border=\"1\" class=\"dataframe\">\n",
              "  <thead>\n",
              "    <tr style=\"text-align: right;\">\n",
              "      <th></th>\n",
              "      <th>Unnamed: 0</th>\n",
              "      <th>jobs</th>\n",
              "      <th>cpu</th>\n",
              "      <th>memory</th>\n",
              "      <th>io_read</th>\n",
              "      <th>io_readReal</th>\n",
              "      <th>io_readSyscalls</th>\n",
              "      <th>io_write</th>\n",
              "      <th>io_writeCancelled</th>\n",
              "      <th>io_writeReal</th>\n",
              "      <th>...</th>\n",
              "      <th>network_rxPackets</th>\n",
              "      <th>network_txBytes</th>\n",
              "      <th>network_txCarrier</th>\n",
              "      <th>network_txColls</th>\n",
              "      <th>network_txCompressed</th>\n",
              "      <th>network_txDrop</th>\n",
              "      <th>network_txErrors</th>\n",
              "      <th>network_txFifo</th>\n",
              "      <th>network_txPackets</th>\n",
              "      <th>idx</th>\n",
              "    </tr>\n",
              "  </thead>\n",
              "  <tbody>\n",
              "    <tr>\n",
              "      <th>count</th>\n",
              "      <td>111619.000000</td>\n",
              "      <td>111619.000000</td>\n",
              "      <td>111619.000000</td>\n",
              "      <td>1.116190e+05</td>\n",
              "      <td>1.116190e+05</td>\n",
              "      <td>1.116190e+05</td>\n",
              "      <td>111619.000000</td>\n",
              "      <td>1.116190e+05</td>\n",
              "      <td>111619.000000</td>\n",
              "      <td>1.116190e+05</td>\n",
              "      <td>...</td>\n",
              "      <td>111619.000000</td>\n",
              "      <td>111619.000000</td>\n",
              "      <td>111619.0</td>\n",
              "      <td>111619.0</td>\n",
              "      <td>111619.0</td>\n",
              "      <td>111619.0</td>\n",
              "      <td>111619.0</td>\n",
              "      <td>111619.0</td>\n",
              "      <td>111619.000000</td>\n",
              "      <td>111619.000000</td>\n",
              "    </tr>\n",
              "    <tr>\n",
              "      <th>mean</th>\n",
              "      <td>1296.957937</td>\n",
              "      <td>1.565943</td>\n",
              "      <td>162.937370</td>\n",
              "      <td>1.171356e+09</td>\n",
              "      <td>3.300518e+06</td>\n",
              "      <td>1.282914e+06</td>\n",
              "      <td>470.259116</td>\n",
              "      <td>2.049469e+05</td>\n",
              "      <td>0.222515</td>\n",
              "      <td>2.097000e+05</td>\n",
              "      <td>...</td>\n",
              "      <td>0.543586</td>\n",
              "      <td>25.334401</td>\n",
              "      <td>0.0</td>\n",
              "      <td>0.0</td>\n",
              "      <td>0.0</td>\n",
              "      <td>0.0</td>\n",
              "      <td>0.0</td>\n",
              "      <td>0.0</td>\n",
              "      <td>0.288392</td>\n",
              "      <td>163.224335</td>\n",
              "    </tr>\n",
              "    <tr>\n",
              "      <th>std</th>\n",
              "      <td>1380.842011</td>\n",
              "      <td>2.114672</td>\n",
              "      <td>219.114396</td>\n",
              "      <td>1.625314e+09</td>\n",
              "      <td>1.325075e+07</td>\n",
              "      <td>5.856631e+06</td>\n",
              "      <td>1788.353682</td>\n",
              "      <td>2.235944e+06</td>\n",
              "      <td>8.444298</td>\n",
              "      <td>2.237911e+06</td>\n",
              "      <td>...</td>\n",
              "      <td>2.421854</td>\n",
              "      <td>109.868206</td>\n",
              "      <td>0.0</td>\n",
              "      <td>0.0</td>\n",
              "      <td>0.0</td>\n",
              "      <td>0.0</td>\n",
              "      <td>0.0</td>\n",
              "      <td>0.0</td>\n",
              "      <td>1.244258</td>\n",
              "      <td>82.459618</td>\n",
              "    </tr>\n",
              "    <tr>\n",
              "      <th>min</th>\n",
              "      <td>0.000000</td>\n",
              "      <td>0.000000</td>\n",
              "      <td>0.000000</td>\n",
              "      <td>0.000000e+00</td>\n",
              "      <td>0.000000e+00</td>\n",
              "      <td>0.000000e+00</td>\n",
              "      <td>0.000000</td>\n",
              "      <td>0.000000e+00</td>\n",
              "      <td>0.000000</td>\n",
              "      <td>0.000000e+00</td>\n",
              "      <td>...</td>\n",
              "      <td>0.000000</td>\n",
              "      <td>0.000000</td>\n",
              "      <td>0.0</td>\n",
              "      <td>0.0</td>\n",
              "      <td>0.0</td>\n",
              "      <td>0.0</td>\n",
              "      <td>0.0</td>\n",
              "      <td>0.0</td>\n",
              "      <td>0.000000</td>\n",
              "      <td>10.000000</td>\n",
              "    </tr>\n",
              "    <tr>\n",
              "      <th>25%</th>\n",
              "      <td>324.000000</td>\n",
              "      <td>1.000000</td>\n",
              "      <td>99.647931</td>\n",
              "      <td>5.082235e+08</td>\n",
              "      <td>3.499200e+04</td>\n",
              "      <td>0.000000e+00</td>\n",
              "      <td>0.711111</td>\n",
              "      <td>2.755556e+00</td>\n",
              "      <td>0.000000</td>\n",
              "      <td>4.551111e+02</td>\n",
              "      <td>...</td>\n",
              "      <td>0.000000</td>\n",
              "      <td>0.000000</td>\n",
              "      <td>0.0</td>\n",
              "      <td>0.0</td>\n",
              "      <td>0.0</td>\n",
              "      <td>0.0</td>\n",
              "      <td>0.0</td>\n",
              "      <td>0.0</td>\n",
              "      <td>0.000000</td>\n",
              "      <td>79.000000</td>\n",
              "    </tr>\n",
              "    <tr>\n",
              "      <th>50%</th>\n",
              "      <td>823.000000</td>\n",
              "      <td>1.000000</td>\n",
              "      <td>100.000000</td>\n",
              "      <td>7.306936e+08</td>\n",
              "      <td>6.994453e+04</td>\n",
              "      <td>0.000000e+00</td>\n",
              "      <td>1.066667</td>\n",
              "      <td>4.133333e+00</td>\n",
              "      <td>0.000000</td>\n",
              "      <td>8.192000e+02</td>\n",
              "      <td>...</td>\n",
              "      <td>0.000000</td>\n",
              "      <td>0.000000</td>\n",
              "      <td>0.0</td>\n",
              "      <td>0.0</td>\n",
              "      <td>0.0</td>\n",
              "      <td>0.0</td>\n",
              "      <td>0.0</td>\n",
              "      <td>0.0</td>\n",
              "      <td>0.000000</td>\n",
              "      <td>159.000000</td>\n",
              "    </tr>\n",
              "    <tr>\n",
              "      <th>75%</th>\n",
              "      <td>1828.000000</td>\n",
              "      <td>1.000000</td>\n",
              "      <td>100.500000</td>\n",
              "      <td>1.198064e+09</td>\n",
              "      <td>4.427633e+05</td>\n",
              "      <td>3.495253e+05</td>\n",
              "      <td>2.288889</td>\n",
              "      <td>5.511111e+00</td>\n",
              "      <td>0.000000</td>\n",
              "      <td>9.102222e+02</td>\n",
              "      <td>...</td>\n",
              "      <td>0.000000</td>\n",
              "      <td>0.000000</td>\n",
              "      <td>0.0</td>\n",
              "      <td>0.0</td>\n",
              "      <td>0.0</td>\n",
              "      <td>0.0</td>\n",
              "      <td>0.0</td>\n",
              "      <td>0.0</td>\n",
              "      <td>0.000000</td>\n",
              "      <td>208.000000</td>\n",
              "    </tr>\n",
              "    <tr>\n",
              "      <th>max</th>\n",
              "      <td>8148.000000</td>\n",
              "      <td>61.000000</td>\n",
              "      <td>4108.022388</td>\n",
              "      <td>4.405613e+10</td>\n",
              "      <td>6.806955e+08</td>\n",
              "      <td>1.999750e+08</td>\n",
              "      <td>75784.844444</td>\n",
              "      <td>5.981062e+07</td>\n",
              "      <td>358.020741</td>\n",
              "      <td>5.981107e+07</td>\n",
              "      <td>...</td>\n",
              "      <td>94.511111</td>\n",
              "      <td>5098.933333</td>\n",
              "      <td>0.0</td>\n",
              "      <td>0.0</td>\n",
              "      <td>0.0</td>\n",
              "      <td>0.0</td>\n",
              "      <td>0.0</td>\n",
              "      <td>0.0</td>\n",
              "      <td>58.666667</td>\n",
              "      <td>317.000000</td>\n",
              "    </tr>\n",
              "  </tbody>\n",
              "</table>\n",
              "<p>8 rows × 28 columns</p>\n",
              "</div>\n",
              "      <button class=\"colab-df-convert\" onclick=\"convertToInteractive('df-f5ef5404-6f52-4927-8e62-c6cdf41e2dbc')\"\n",
              "              title=\"Convert this dataframe to an interactive table.\"\n",
              "              style=\"display:none;\">\n",
              "        \n",
              "  <svg xmlns=\"http://www.w3.org/2000/svg\" height=\"24px\"viewBox=\"0 0 24 24\"\n",
              "       width=\"24px\">\n",
              "    <path d=\"M0 0h24v24H0V0z\" fill=\"none\"/>\n",
              "    <path d=\"M18.56 5.44l.94 2.06.94-2.06 2.06-.94-2.06-.94-.94-2.06-.94 2.06-2.06.94zm-11 1L8.5 8.5l.94-2.06 2.06-.94-2.06-.94L8.5 2.5l-.94 2.06-2.06.94zm10 10l.94 2.06.94-2.06 2.06-.94-2.06-.94-.94-2.06-.94 2.06-2.06.94z\"/><path d=\"M17.41 7.96l-1.37-1.37c-.4-.4-.92-.59-1.43-.59-.52 0-1.04.2-1.43.59L10.3 9.45l-7.72 7.72c-.78.78-.78 2.05 0 2.83L4 21.41c.39.39.9.59 1.41.59.51 0 1.02-.2 1.41-.59l7.78-7.78 2.81-2.81c.8-.78.8-2.07 0-2.86zM5.41 20L4 18.59l7.72-7.72 1.47 1.35L5.41 20z\"/>\n",
              "  </svg>\n",
              "      </button>\n",
              "      \n",
              "  <style>\n",
              "    .colab-df-container {\n",
              "      display:flex;\n",
              "      flex-wrap:wrap;\n",
              "      gap: 12px;\n",
              "    }\n",
              "\n",
              "    .colab-df-convert {\n",
              "      background-color: #E8F0FE;\n",
              "      border: none;\n",
              "      border-radius: 50%;\n",
              "      cursor: pointer;\n",
              "      display: none;\n",
              "      fill: #1967D2;\n",
              "      height: 32px;\n",
              "      padding: 0 0 0 0;\n",
              "      width: 32px;\n",
              "    }\n",
              "\n",
              "    .colab-df-convert:hover {\n",
              "      background-color: #E2EBFA;\n",
              "      box-shadow: 0px 1px 2px rgba(60, 64, 67, 0.3), 0px 1px 3px 1px rgba(60, 64, 67, 0.15);\n",
              "      fill: #174EA6;\n",
              "    }\n",
              "\n",
              "    [theme=dark] .colab-df-convert {\n",
              "      background-color: #3B4455;\n",
              "      fill: #D2E3FC;\n",
              "    }\n",
              "\n",
              "    [theme=dark] .colab-df-convert:hover {\n",
              "      background-color: #434B5C;\n",
              "      box-shadow: 0px 1px 3px 1px rgba(0, 0, 0, 0.15);\n",
              "      filter: drop-shadow(0px 1px 2px rgba(0, 0, 0, 0.3));\n",
              "      fill: #FFFFFF;\n",
              "    }\n",
              "  </style>\n",
              "\n",
              "      <script>\n",
              "        const buttonEl =\n",
              "          document.querySelector('#df-f5ef5404-6f52-4927-8e62-c6cdf41e2dbc button.colab-df-convert');\n",
              "        buttonEl.style.display =\n",
              "          google.colab.kernel.accessAllowed ? 'block' : 'none';\n",
              "\n",
              "        async function convertToInteractive(key) {\n",
              "          const element = document.querySelector('#df-f5ef5404-6f52-4927-8e62-c6cdf41e2dbc');\n",
              "          const dataTable =\n",
              "            await google.colab.kernel.invokeFunction('convertToInteractive',\n",
              "                                                     [key], {});\n",
              "          if (!dataTable) return;\n",
              "\n",
              "          const docLinkHtml = 'Like what you see? Visit the ' +\n",
              "            '<a target=\"_blank\" href=https://colab.research.google.com/notebooks/data_table.ipynb>data table notebook</a>'\n",
              "            + ' to learn more about interactive tables.';\n",
              "          element.innerHTML = '';\n",
              "          dataTable['output_type'] = 'display_data';\n",
              "          await google.colab.output.renderOutput(dataTable, element);\n",
              "          const docLink = document.createElement('div');\n",
              "          docLink.innerHTML = docLinkHtml;\n",
              "          element.appendChild(docLink);\n",
              "        }\n",
              "      </script>\n",
              "    </div>\n",
              "  </div>\n",
              "  "
            ]
          },
          "metadata": {},
          "execution_count": 6
        }
      ],
      "source": [
        "metrics_df.describe()"
      ]
    },
    {
      "cell_type": "code",
      "execution_count": null,
      "metadata": {
        "id": "T_bu4TY06ehl"
      },
      "outputs": [],
      "source": [
        "indexes = metrics_df['idx'].unique()"
      ]
    },
    {
      "cell_type": "code",
      "execution_count": null,
      "metadata": {
        "colab": {
          "base_uri": "https://localhost:8080/"
        },
        "id": "MUNw2UQz6ehn",
        "outputId": "79111815-1589-4866-bc7c-9712d76978d9"
      },
      "outputs": [
        {
          "output_type": "execute_result",
          "data": {
            "text/plain": [
              "('2020-04-28 08:18:32', '2021-03-11 18:24:13')"
            ]
          },
          "metadata": {},
          "execution_count": 8
        }
      ],
      "source": [
        "metrics_df['ds'].min(), metrics_df['ds'].max()"
      ]
    },
    {
      "cell_type": "code",
      "execution_count": null,
      "metadata": {
        "id": "0C1BSxek6eho"
      },
      "outputs": [],
      "source": [
        "columns = list(metrics_df.columns)"
      ]
    },
    {
      "cell_type": "code",
      "execution_count": null,
      "metadata": {
        "id": "cJg3z7WL6ehr"
      },
      "outputs": [],
      "source": [
        "def get_flow_param_in_time(flow, param):\n",
        "    return metrics_df[metrics_df['idx']==flow]['ds'],metrics_df[metrics_df['idx']==flow][param]"
      ]
    },
    {
      "cell_type": "code",
      "execution_count": null,
      "metadata": {
        "colab": {
          "base_uri": "https://localhost:8080/"
        },
        "id": "vmsTPohP6ehu",
        "outputId": "9e404dcd-e863-484d-ac33-a0256e2f9f68"
      },
      "outputs": [
        {
          "output_type": "execute_result",
          "data": {
            "text/plain": [
              "array([ 10,  15,  18,  33,  45,  46,  48,  50,  51,  52,  57,  59,  61,\n",
              "        65,  66,  67,  68,  69,  70,  71,  74,  75,  76,  78,  79,  80,\n",
              "        86,  87,  89,  90, 105, 113, 120, 121, 124, 125, 153, 154, 156,\n",
              "       158, 159, 160, 161, 164, 165, 166, 167, 175, 176, 178, 180, 184,\n",
              "       186, 187, 191, 193, 195, 196, 200, 201, 202, 207, 208, 211, 212,\n",
              "       215, 216, 231, 275, 276, 280, 283, 284, 285, 287, 288, 289, 294,\n",
              "       299, 300, 301, 304, 305, 306, 311, 313, 317])"
            ]
          },
          "metadata": {},
          "execution_count": 11
        }
      ],
      "source": [
        "indexes"
      ]
    },
    {
      "cell_type": "code",
      "execution_count": null,
      "metadata": {
        "id": "q65FokzN6ehw"
      },
      "outputs": [],
      "source": [
        "train, test = metrics_df[metrics_df['idx']<215].copy(), metrics_df[metrics_df['idx']>=215].copy()\n",
        "train_indxs, test_indxs = train['idx'].unique(), test['idx'].unique()"
      ]
    },
    {
      "cell_type": "code",
      "execution_count": null,
      "metadata": {
        "id": "w8HmuvAD8FKq"
      },
      "outputs": [],
      "source": [
        "train['ds']=pd.to_datetime(train['ds'])\n",
        "test['ds'] = pd.to_datetime(test['ds'])"
      ]
    },
    {
      "cell_type": "code",
      "execution_count": null,
      "metadata": {
        "id": "9qdZCn8f6ehz"
      },
      "outputs": [],
      "source": [
        "train['ds']=(train['ds'] - pd.Timestamp(\"1970-01-01\")) // pd.Timedelta('1s')\n",
        "test['ds']=(test['ds'] - pd.Timestamp(\"1970-01-01\")) // pd.Timedelta('1s')"
      ]
    },
    {
      "cell_type": "code",
      "execution_count": null,
      "metadata": {
        "id": "z3dI6U6IBCg8"
      },
      "outputs": [],
      "source": []
    },
    {
      "cell_type": "code",
      "execution_count": null,
      "metadata": {
        "id": "MZidFs2h6eh2"
      },
      "outputs": [],
      "source": [
        "def many_2_many_split(data_X, data_y, past_window_size=80, future_window_size = 20):\n",
        "    X = []\n",
        "    Y = []\n",
        "    for i in range(past_window_size, len(data_X)-future_window_size):\n",
        "        X.append(np.array(data_X[i-past_window_size:i,:]))\n",
        "        Y.append(np.array(data_y[i:i+future_window_size]))\n",
        "    return X,Y"
      ]
    },
    {
      "cell_type": "code",
      "execution_count": null,
      "metadata": {
        "id": "0TLWBeUN6eh3"
      },
      "outputs": [],
      "source": [
        "def create_data(data, data_indx, params_x, params_y, future_window_size, past_window_size):\n",
        "    data_X, data_y = [], []\n",
        "    for indx in data_indx:\n",
        "        X, Y= many_2_many_split(data[data['idx']==indx][params_x].values,data[data['idx']==indx][params_y].values, past_window_size, future_window_size)\n",
        "        data_X.append(X)\n",
        "        data_y.append(Y)\n",
        "    d_X = np.array(data_X[0])\n",
        "    d_y = np.array(data_y[0])\n",
        "    for i in range(1,len(data_X)):\n",
        "        data_X[i] = np.array(data_X[i])\n",
        "        data_y[i] = np.array(data_y[i])\n",
        "        d_X = np.concatenate((d_X, data_X[i]))\n",
        "        d_y = np.concatenate((d_y, data_y[i]))\n",
        "    return d_X, d_y"
      ]
    },
    {
      "cell_type": "markdown",
      "metadata": {
        "id": "DvCMjBWHkrBx"
      },
      "source": [
        "**Prediction**"
      ]
    },
    {
      "cell_type": "markdown",
      "metadata": {
        "id": "vkdXNaTPvqsY"
      },
      "source": [
        "metric functions"
      ]
    },
    {
      "cell_type": "code",
      "execution_count": null,
      "metadata": {
        "id": "z2xxBY1NvqG0"
      },
      "outputs": [],
      "source": [
        "from sklearn.metrics import mean_absolute_error, mean_squared_error\n",
        "from math import sqrt\n",
        "\n",
        "def rmse(pred, real):\n",
        "    return sqrt(mean_squared_error(pred, real))\n",
        "\n",
        "def smape(A, F):\n",
        "    tmp = 2 * np.abs(F - A) / (np.abs(A) + np.abs(F))\n",
        "    len_ = np.count_nonzero(~np.isnan(tmp))\n",
        "    if len_ == 0 and np.nansum(tmp) == 0: # Deals with a special case\n",
        "        return 100\n",
        "    return 100 / len_ * np.nansum(tmp)"
      ]
    },
    {
      "cell_type": "code",
      "execution_count": null,
      "metadata": {
        "id": "8SmRzoJYcn4c"
      },
      "outputs": [],
      "source": [
        "def prepare_data(X):\n",
        "    return X.reshape((X.shape[0], X.shape[1]*X.shape[2]))"
      ]
    },
    {
      "cell_type": "code",
      "execution_count": null,
      "metadata": {
        "id": "JxoSx6xtt7WO"
      },
      "outputs": [],
      "source": [
        "def to_torch(data, normalize = False):\n",
        "    if normalize:\n",
        "        scaler = preprocessing.MinMaxScaler()\n",
        "        data = scaler.fit_transform(data)\n",
        "    return torch.tensor(data)"
      ]
    },
    {
      "cell_type": "code",
      "execution_count": null,
      "metadata": {
        "id": "G-GEWYEzzUBI"
      },
      "outputs": [],
      "source": [
        "def create_esn(input_size, l_r=1.3057770274947211, s_r = 396, h_s  = 52):\n",
        "\n",
        "    # [I 2023-04-25 14:55:10,561] Trial 457 finished with value: 0.08370441392511253 and parameters: {'leaky_rate': 1.3057770274947211, 'spectral_radius': 396, 'hidden_size': 52}. Best is trial 457 with value: 0.08370441392511253.\n",
        "    activation = self_normalizing_default(leaky_rate=l_r, spectral_radius=s_r)\n",
        "\n",
        "    # initialize the esn\n",
        "    esn = GroupedDeepESN(\n",
        "        # You need to specify the dimensionality of the input\n",
        "        # it will later be checked whether the data provided matches the declared shape\n",
        "        input_size=input_size,\n",
        "        groups=3,\n",
        "        num_layers=(2,4,3),\n",
        "        hidden_size=h_s,\n",
        "        initializer=regular_graph_initializer(seed=3, degree=10),\n",
        "        activation=activation\n",
        "    )\n",
        "    return esn"
      ]
    },
    {
      "cell_type": "markdown",
      "metadata": {
        "id": "1fY1LuRLxqIy"
      },
      "source": [
        "prediciton input"
      ]
    },
    {
      "cell_type": "code",
      "execution_count": null,
      "metadata": {
        "id": "H1Rlz2mbxorw"
      },
      "outputs": [],
      "source": [
        "params_X = [\n",
        "            # 'ds',\n",
        "            'jobs',\n",
        "            'cpu',\n",
        "            'memory',\n",
        "            'io_read',\n",
        "            'io_readReal',\n",
        "            'io_readSyscalls',\n",
        "            'io_write',\n",
        "            'io_writeReal',\n",
        "            'io_writeSyscalls',\n",
        "            'network_rxBytes',\n",
        "            'network_txPackets'\n",
        "            ]\n",
        "params_y = [\n",
        "    # 'jobs',\n",
        "    'cpu',\n",
        "    # 'memory'\n",
        "    ]"
      ]
    },
    {
      "cell_type": "code",
      "execution_count": null,
      "metadata": {
        "id": "QgdlV_9x1EGj"
      },
      "outputs": [],
      "source": [
        "import torch"
      ]
    },
    {
      "cell_type": "markdown",
      "metadata": {
        "id": "7UMZU-fjxtda"
      },
      "source": [
        "run experiment"
      ]
    },
    {
      "cell_type": "markdown",
      "metadata": {
        "id": "uDuaENJeCIui"
      },
      "source": [
        "CPU prediction"
      ]
    },
    {
      "cell_type": "code",
      "execution_count": null,
      "metadata": {
        "id": "p_MEIc8N2vsg"
      },
      "outputs": [],
      "source": [
        "f,p = 12, 80\n",
        "train_X, train_y = create_data(train, train_indxs, params_X, params_y, f, p)\n",
        "test_X, test_y = create_data(test, test_indxs, params_X, params_y, f, p)\n",
        "\n",
        "train_X, train_y = prepare_data(train_X), prepare_data(train_y)\n",
        "test_X, test_y = prepare_data(test_X), prepare_data(test_y)\n",
        "\n",
        "train_X_torch, train_y_torch = to_torch(train_X, True),to_torch(train_y, True)\n",
        "test_X_torch, test_y_torch = to_torch(test_X, True), to_torch(test_y, True)"
      ]
    },
    {
      "cell_type": "code",
      "execution_count": null,
      "metadata": {
        "id": "c-j6OiF0EvkC"
      },
      "outputs": [],
      "source": [
        "def get_metrics(results, real):\n",
        "    metrics = [[],[],[]]\n",
        "    for i in range(len(results)):\n",
        "        # print(results[i])\n",
        "        # print(real[i])\n",
        "        # print('rmse = ', rmse(results[i], real[i]))\n",
        "        metrics[0].append(rmse(results[i], real[i]))\n",
        "        metrics[1].append(smape(results[i], real[i]))\n",
        "        metrics[2].append(mean_absolute_error(results[i], real[i]))\n",
        "    metrics = torch.tensor(metrics)\n",
        "    ms = torch.mean(metrics, axis=1)\n",
        "    # print(ms)\n",
        "    return {'rmse':ms[0], 'smape':ms[1], 'mae':ms[2]}"
      ]
    },
    {
      "cell_type": "code",
      "execution_count": null,
      "metadata": {
        "colab": {
          "base_uri": "https://localhost:8080/"
        },
        "id": "xuzHqeyaxO7k",
        "outputId": "6915c326-c523-4ccd-f467-716e2e5c31d2"
      },
      "outputs": [
        {
          "output_type": "stream",
          "name": "stdout",
          "text": [
            "fatal: destination path 'AutoESN' already exists and is not an empty directory.\n"
          ]
        }
      ],
      "source": [
        "# load auto-esn from github\n",
        "!git clone https://github.com/Ro6ertWcislo/AutoESN.git"
      ]
    },
    {
      "cell_type": "code",
      "source": [
        "!mv /content/AutoESN/src/auto_esn  ."
      ],
      "metadata": {
        "colab": {
          "base_uri": "https://localhost:8080/"
        },
        "id": "F98PrldQacvK",
        "outputId": "13c51daa-a6af-4749-fa95-7a75401535a9"
      },
      "execution_count": null,
      "outputs": [
        {
          "output_type": "stream",
          "name": "stdout",
          "text": [
            "mv: cannot stat '/content/AutoESN/src/auto_esn': No such file or directory\n"
          ]
        }
      ]
    },
    {
      "cell_type": "code",
      "execution_count": null,
      "metadata": {
        "colab": {
          "base_uri": "https://localhost:8080/"
        },
        "id": "qEfTbvpf1L0p",
        "outputId": "3e02f354-73b5-4bf2-a5bf-1ff93512025d"
      },
      "outputs": [
        {
          "output_type": "stream",
          "name": "stdout",
          "text": [
            "Looking in indexes: https://pypi.org/simple, https://us-python.pkg.dev/colab-wheels/public/simple/\n",
            "Collecting optuna\n",
            "  Downloading optuna-3.2.0-py3-none-any.whl (390 kB)\n",
            "\u001b[2K     \u001b[90m━━━━━━━━━━━━━━━━━━━━━━━━━━━━━━━━━━━━━━━\u001b[0m \u001b[32m390.6/390.6 kB\u001b[0m \u001b[31m7.2 MB/s\u001b[0m eta \u001b[36m0:00:00\u001b[0m\n",
            "\u001b[?25hCollecting alembic>=1.5.0 (from optuna)\n",
            "  Downloading alembic-1.11.1-py3-none-any.whl (224 kB)\n",
            "\u001b[2K     \u001b[90m━━━━━━━━━━━━━━━━━━━━━━━━━━━━━━━━━━━━━━\u001b[0m \u001b[32m224.5/224.5 kB\u001b[0m \u001b[31m21.9 MB/s\u001b[0m eta \u001b[36m0:00:00\u001b[0m\n",
            "\u001b[?25hCollecting cmaes>=0.9.1 (from optuna)\n",
            "  Downloading cmaes-0.9.1-py3-none-any.whl (21 kB)\n",
            "Collecting colorlog (from optuna)\n",
            "  Downloading colorlog-6.7.0-py2.py3-none-any.whl (11 kB)\n",
            "Requirement already satisfied: numpy in /usr/local/lib/python3.10/dist-packages (from optuna) (1.22.4)\n",
            "Requirement already satisfied: packaging>=20.0 in /usr/local/lib/python3.10/dist-packages (from optuna) (23.1)\n",
            "Requirement already satisfied: sqlalchemy>=1.3.0 in /usr/local/lib/python3.10/dist-packages (from optuna) (2.0.10)\n",
            "Requirement already satisfied: tqdm in /usr/local/lib/python3.10/dist-packages (from optuna) (4.65.0)\n",
            "Requirement already satisfied: PyYAML in /usr/local/lib/python3.10/dist-packages (from optuna) (6.0)\n",
            "Collecting Mako (from alembic>=1.5.0->optuna)\n",
            "  Downloading Mako-1.2.4-py3-none-any.whl (78 kB)\n",
            "\u001b[2K     \u001b[90m━━━━━━━━━━━━━━━━━━━━━━━━━━━━━━━━━━━━━━━━\u001b[0m \u001b[32m78.7/78.7 kB\u001b[0m \u001b[31m8.7 MB/s\u001b[0m eta \u001b[36m0:00:00\u001b[0m\n",
            "\u001b[?25hRequirement already satisfied: typing-extensions>=4 in /usr/local/lib/python3.10/dist-packages (from alembic>=1.5.0->optuna) (4.5.0)\n",
            "Requirement already satisfied: greenlet!=0.4.17 in /usr/local/lib/python3.10/dist-packages (from sqlalchemy>=1.3.0->optuna) (2.0.2)\n",
            "Requirement already satisfied: MarkupSafe>=0.9.2 in /usr/local/lib/python3.10/dist-packages (from Mako->alembic>=1.5.0->optuna) (2.1.2)\n",
            "Installing collected packages: Mako, colorlog, cmaes, alembic, optuna\n",
            "Successfully installed Mako-1.2.4 alembic-1.11.1 cmaes-0.9.1 colorlog-6.7.0 optuna-3.2.0\n"
          ]
        }
      ],
      "source": [
        "pip install optuna\n"
      ]
    },
    {
      "cell_type": "code",
      "execution_count": null,
      "metadata": {
        "id": "zhJTRn0RkE5P"
      },
      "outputs": [],
      "source": [
        "from auto_esn.esn.reservoir.activation import self_normalizing_default\n",
        "from auto_esn.esn.reservoir.initialization import CompositeInitializer, WeightInitializer\n",
        "from auto_esn.esn.esn import GroupedDeepESN\n",
        "import optuna\n",
        "\n",
        "def regular_graph_initializer(seed, degree):\n",
        "    # initialize input weights with uniform distribution from -1 to 1 and specified seed to reproduce results\n",
        "    input_weight = CompositeInitializer().with_seed(seed).uniform()\n",
        "\n",
        "    # specified operations will be done one by one, so this \"builder\" can be seen as a list of transforms\n",
        "    # first set the seed and start with uniform distribution\n",
        "    # then treat the newly created dense matrix as adjacency matrix and transform it into regular graph with\n",
        "    # desired degree, then apply spectral normalization, so that spectral radius is 1.\n",
        "    # at the end scale the matrix by factor 0.9 and the initialization is done\n",
        "    reservoir_weight = CompositeInitializer() \\\n",
        "        .with_seed(seed) \\\n",
        "        .uniform() \\\n",
        "        .regular_graph(degree) \\\n",
        "        .spectral_normalize() \\\n",
        "        .scale(0.9)\n",
        "\n",
        "    return WeightInitializer(weight_ih_init=input_weight, weight_hh_init=reservoir_weight)"
      ]
    },
    {
      "cell_type": "code",
      "source": [
        "f,p = 1, 2\n",
        "train_X, train_y = create_data(train, train_indxs, ['cpu'], ['cpu'], f, p)\n",
        "test_X, test_y = create_data(test, test_indxs, ['cpu'], ['cpu'], f, p)\n",
        "\n",
        "train_X, train_y = prepare_data(train_X), prepare_data(train_y)\n",
        "test_X, test_y = prepare_data(test_X), prepare_data(test_y)\n",
        "\n",
        "train_X_torch, train_y_torch = to_torch(train_X, False),to_torch(train_y, False)\n",
        "test_X_torch, test_y_torch = to_torch(test_X, False), to_torch(test_y, False)"
      ],
      "metadata": {
        "id": "FFDAfU7dbUAb"
      },
      "execution_count": null,
      "outputs": []
    },
    {
      "cell_type": "code",
      "source": [
        "plt.plot(test_X_torch[:100])\n",
        "plt.plot(test_y_torch[:100])"
      ],
      "metadata": {
        "colab": {
          "base_uri": "https://localhost:8080/",
          "height": 448
        },
        "id": "uYSWGpgkrWrh",
        "outputId": "3e292e41-a35a-4a71-f962-29dcce16354d"
      },
      "execution_count": null,
      "outputs": [
        {
          "output_type": "execute_result",
          "data": {
            "text/plain": [
              "[<matplotlib.lines.Line2D at 0x7fdfb77b0ee0>]"
            ]
          },
          "metadata": {},
          "execution_count": 228
        },
        {
          "output_type": "display_data",
          "data": {
            "text/plain": [
              "<Figure size 640x480 with 1 Axes>"
            ],
            "image/png": "[encoded data removed]"
          },
          "metadata": {}
        }
      ]
    },
    {
      "cell_type": "code",
      "source": [
        "def create_esn(input_size, l_r=1.3057770274947211, s_r = 396, h_s  = 52):\n",
        "\n",
        "    # [I 2023-04-25 14:55:10,561] Trial 457 finished with value: 0.08370441392511253 and parameters: {'leaky_rate': 1.3057770274947211, 'spectral_radius': 396, 'hidden_size': 52}. Best is trial 457 with value: 0.08370441392511253.\n",
        "    activation = self_normalizing_default(leaky_rate=l_r, spectral_radius=s_r)\n",
        "\n",
        "    # initialize the esn\n",
        "    esn = GroupedDeepESN(\n",
        "        # You need to specify the dimensionality of the input\n",
        "        # it will later be checked whether the data provided matches the declared shape\n",
        "        input_size=input_size,\n",
        "        groups=5,\n",
        "        num_layers=(2,4,2,2,3),\n",
        "        hidden_size=h_s,\n",
        "        initializer=regular_graph_initializer(seed=3, degree=12),\n",
        "        activation=activation\n",
        "    )\n",
        "    return esn"
      ],
      "metadata": {
        "id": "A5fh7mpGlXb7"
      },
      "execution_count": null,
      "outputs": []
    },
    {
      "cell_type": "code",
      "source": [
        "input_size = train_X_torch.shape[1]\n",
        "network = create_esn(input_size)\n",
        "\n",
        "network.fit(train_X_torch, train_y_torch)\n",
        "\n",
        "results = network(test_X_torch)\n"
      ],
      "metadata": {
        "id": "svJWFqC5apjE"
      },
      "execution_count": null,
      "outputs": []
    },
    {
      "cell_type": "code",
      "source": [
        "plt.plot(test_X_torch[0])\n",
        "plt.plot(test_y_torch[:80])"
      ],
      "metadata": {
        "colab": {
          "base_uri": "https://localhost:8080/",
          "height": 447
        },
        "id": "ZBFSsn2Mq0_X",
        "outputId": "984f594b-1acd-48f0-f579-f51673a42ba0"
      },
      "execution_count": null,
      "outputs": [
        {
          "output_type": "execute_result",
          "data": {
            "text/plain": [
              "[<matplotlib.lines.Line2D at 0x7fdfb8a920b0>]"
            ]
          },
          "metadata": {},
          "execution_count": 207
        },
        {
          "output_type": "display_data",
          "data": {
            "text/plain": [
              "<Figure size 640x480 with 1 Axes>"
            ],
            "image/png": "[encoded data removed]"
          },
          "metadata": {}
        }
      ]
    },
    {
      "cell_type": "code",
      "source": [
        "plt.plot(results[3000:3100].flatten(), label = 'pred')\n",
        "plt.plot(test_y_torch[3000:3100].flatten(), label = 'act')\n",
        "plt.legend()"
      ],
      "metadata": {
        "colab": {
          "base_uri": "https://localhost:8080/",
          "height": 447
        },
        "id": "CEcmfPUxpgjC",
        "outputId": "ae3ad6b0-d46c-4b69-f705-86a49a0cc429"
      },
      "execution_count": null,
      "outputs": [
        {
          "output_type": "execute_result",
          "data": {
            "text/plain": [
              "<matplotlib.legend.Legend at 0x7fdfb8e451b0>"
            ]
          },
          "metadata": {},
          "execution_count": 203
        },
        {
          "output_type": "display_data",
          "data": {
            "text/plain": [
              "<Figure size 640x480 with 1 Axes>"
            ],
            "image/png": "[encoded data removed]"
          },
          "metadata": {}
        }
      ]
    },
    {
      "cell_type": "code",
      "execution_count": null,
      "metadata": {
        "id": "4K6LvThPzwXf"
      },
      "outputs": [],
      "source": [
        "def objective(trial):\n",
        "    leaky_rate = trial.suggest_float(\"leaky_rate\",0.5, 1.4)\n",
        "    radius = trial.suggest_int(\"spectral_radius\", 0.5, 700)\n",
        "    hidden_size = trial.suggest_int('hidden_size', 50, 200)\n",
        "    activation = self_normalizing_default(leaky_rate=leaky_rate, spectral_radius=radius)\n",
        "    input_size = train_X_torch.shape[1]\n",
        "    # initialize the esn\n",
        "    network = GroupedDeepESN(\n",
        "        # You need to specify the dimensionality of the input\n",
        "        # it will later be checked whether the data provided matches the declared shape\n",
        "        input_size=input_size,\n",
        "        groups=3,\n",
        "        num_layers=(2,4,3),\n",
        "        hidden_size=hidden_size,\n",
        "        initializer=regular_graph_initializer(seed=3, degree=10),\n",
        "        activation=activation\n",
        "    )\n",
        "    network.fit(train_X_torch, train_y_torch)\n",
        "    results = network(test_X_torch)\n",
        "    # print(results)\n",
        "    return get_metrics(test_y_torch, results.clone())['rmse']"
      ]
    },
    {
      "cell_type": "code",
      "execution_count": null,
      "metadata": {
        "id": "gyujrQkS1at1"
      },
      "outputs": [],
      "source": [
        "torch.set_default_dtype(torch.float64)"
      ]
    },
    {
      "cell_type": "code",
      "execution_count": null,
      "metadata": {
        "id": "V7Fe_xoFzkzv"
      },
      "outputs": [],
      "source": [
        "study = optuna.create_study()\n",
        "study.optimize(objective, n_trials=100)"
      ]
    },
    {
      "cell_type": "markdown",
      "metadata": {
        "id": "fA_ND_FNacmJ"
      },
      "source": [
        "10s sampling"
      ]
    },
    {
      "cell_type": "code",
      "execution_count": null,
      "metadata": {
        "id": "pO6rrFtsw0Mx"
      },
      "outputs": [],
      "source": [
        "# 1,2,5 minutes\n",
        "n_future = [6,12,30]\n",
        "n_past = [80,90,100]\n",
        "m_results = {}\n",
        "for f,p in zip(n_future, n_past):\n",
        "    print(f, p)\n",
        "    train_X, train_y = create_data(train, train_indxs, params_X, params_y, f, p)\n",
        "    test_X, test_y = create_data(test, test_indxs, params_X, params_y, f, p)\n",
        "\n",
        "    train_X, train_y = prepare_data(train_X), prepare_data(train_y)\n",
        "    test_X, test_y = prepare_data(test_X), prepare_data(test_y)\n",
        "\n",
        "    train_X_torch, train_y_torch = to_torch(train_X, True),to_torch(train_y, True)\n",
        "    test_X_torch, test_y_torch = to_torch(test_X, True), to_torch(test_y, True)\n",
        "    input_size = train_X_torch.shape[1]\n",
        "    network = create_esn(input_size)\n",
        "    network.fit(train_X_torch, train_y_torch)\n",
        "\n",
        "    results = network(test_X_torch)\n",
        "    m_results['future = '+str(f)+', past = '+str(p)] = get_metrics(results, test_y_torch)\n"
      ]
    },
    {
      "cell_type": "code",
      "execution_count": null,
      "metadata": {
        "id": "R7hltr2-8PrA"
      },
      "outputs": [],
      "source": [
        "m_results"
      ]
    },
    {
      "cell_type": "code",
      "execution_count": null,
      "metadata": {
        "id": "d9O3r24dBMry"
      },
      "outputs": [],
      "source": [
        "# 1,2,3 minutes\n",
        "n_future = [6,6,12,18]\n",
        "n_past = [100,80,90,100]\n",
        "m_results = {}\n",
        "for f,p in zip(n_future, n_past):\n",
        "    print(f, p)\n",
        "    train_X, train_y = create_data(train, train_indxs, params_X, params_y, f, p)\n",
        "    test_X, test_y = create_data(test, test_indxs, params_X, params_y, f, p)\n",
        "\n",
        "    train_X, train_y = prepare_data(train_X), prepare_data(train_y)\n",
        "    test_X, test_y = prepare_data(test_X), prepare_data(test_y)\n",
        "\n",
        "    train_X_torch, train_y_torch = to_torch(train_X, True),to_torch(train_y, True)\n",
        "    test_X_torch, test_y_torch = to_torch(test_X, True), to_torch(test_y, True)\n",
        "    input_size = train_X_torch.shape[1]\n",
        "    network = create_esn(input_size)\n",
        "    network.fit(train_X_torch, train_y_torch)\n",
        "\n",
        "    results = network(test_X_torch)\n",
        "    m_results['future = '+str(f)+', past = '+str(p)] = get_metrics(results, test_y_torch)\n"
      ]
    },
    {
      "cell_type": "code",
      "execution_count": null,
      "metadata": {
        "id": "IIHQQEp3BS2l"
      },
      "outputs": [],
      "source": [
        "m_results"
      ]
    },
    {
      "cell_type": "markdown",
      "metadata": {
        "id": "ixldrR2iB_eT"
      },
      "source": [
        "Memory usage prediction"
      ]
    },
    {
      "cell_type": "markdown",
      "metadata": {
        "id": "Qp71jk7ECqFb"
      },
      "source": [
        "change params to predict memory"
      ]
    },
    {
      "cell_type": "code",
      "execution_count": null,
      "metadata": {
        "id": "PKMi-j0LCsi6"
      },
      "outputs": [],
      "source": [
        "params_X = [\n",
        "            # 'ds',\n",
        "            'jobs',\n",
        "            'cpu',\n",
        "            'memory',\n",
        "            'io_read',\n",
        "            'io_readReal',\n",
        "            'io_readSyscalls',\n",
        "            'io_write',\n",
        "            'io_writeReal',\n",
        "            'io_writeSyscalls',\n",
        "            'network_rxBytes',\n",
        "            'network_txPackets'\n",
        "            ]\n",
        "params_y = [\n",
        "    # 'jobs',\n",
        "    # 'cpu',\n",
        "    'memory'\n",
        "    ]"
      ]
    },
    {
      "cell_type": "code",
      "execution_count": null,
      "metadata": {
        "id": "CD3ztHtfBQ2y"
      },
      "outputs": [],
      "source": [
        "f = 1\n",
        "p= 80"
      ]
    },
    {
      "cell_type": "code",
      "execution_count": null,
      "metadata": {
        "id": "WBUnBxJEBJcO"
      },
      "outputs": [],
      "source": [
        "train_X, train_y = create_data(train, train_indxs, ['cpu'], ['cpu'], f, p)\n",
        "test_X, test_y = create_data(test, test_indxs, ['cpu'], ['cpu'], f, p)"
      ]
    },
    {
      "cell_type": "code",
      "execution_count": null,
      "metadata": {
        "id": "6ImL9Ac3BW3I"
      },
      "outputs": [],
      "source": [
        "# plt.plot(train_y.flatten())\n",
        "plt.plot(train_X[0])\n",
        "plt.plot(train_y[0])"
      ]
    },
    {
      "cell_type": "markdown",
      "metadata": {
        "id": "MT6Bx1SsCs7_"
      },
      "source": [
        "run optuna experiment for prediction params"
      ]
    },
    {
      "cell_type": "code",
      "execution_count": null,
      "metadata": {
        "id": "qQYg2sNICvKH"
      },
      "outputs": [],
      "source": [
        "f,p = 12, 80\n",
        "train_X, train_y = create_data(train, train_indxs, params_X, params_y, f, p)\n",
        "test_X, test_y = create_data(test, test_indxs, params_X, params_y, f, p)\n",
        "\n",
        "train_X, train_y = prepare_data(train_X), prepare_data(train_y)\n",
        "test_X, test_y = prepare_data(test_X), prepare_data(test_y)\n",
        "\n",
        "train_X_torch, train_y_torch = to_torch(train_X, True),to_torch(train_y, True)\n",
        "test_X_torch, test_y_torch = to_torch(test_X, True), to_torch(test_y, True)"
      ]
    },
    {
      "cell_type": "code",
      "execution_count": null,
      "metadata": {
        "id": "KzZ3kMXKDMxO"
      },
      "outputs": [],
      "source": [
        "def objective(trial):\n",
        "    leaky_rate = trial.suggest_float(\"leaky_rate\",0.5, 1.4)\n",
        "    radius = trial.suggest_int(\"spectral_radius\", 0.5, 700)\n",
        "    hidden_size = trial.suggest_int('hidden_size', 50, 200)\n",
        "    activation = self_normalizing_default(leaky_rate=leaky_rate, spectral_radius=radius)\n",
        "    input_size = train_X_torch.shape[1]\n",
        "    # initialize the esn\n",
        "    network = GroupedDeepESN(\n",
        "        # You need to specify the dimensionality of the input\n",
        "        # it will later be checked whether the data provided matches the declared shape\n",
        "        input_size=input_size,\n",
        "        groups=3,\n",
        "        num_layers=(2,4,3),\n",
        "        hidden_size=hidden_size,\n",
        "        initializer=regular_graph_initializer(seed=3, degree=10),\n",
        "        activation=activation\n",
        "    )\n",
        "\n",
        "\n",
        "\n",
        "    network.fit(train_X_torch, train_y_torch)\n",
        "\n",
        "    results = network(test_X_torch)\n",
        "    # print(results)\n",
        "    return get_metrics(test_y_torch, results.clone())['rmse']"
      ]
    },
    {
      "cell_type": "code",
      "execution_count": null,
      "metadata": {
        "id": "n_KcltlwDXGI"
      },
      "outputs": [],
      "source": [
        "study = optuna.create_study()\n",
        "study.optimize(objective, n_trials=100)"
      ]
    },
    {
      "cell_type": "markdown",
      "metadata": {
        "id": "nd0osLNVCwCx"
      },
      "source": [
        "run metrics calculation for obtained hyperparams"
      ]
    },
    {
      "cell_type": "code",
      "execution_count": null,
      "metadata": {
        "id": "-jzkTbEKC00K"
      },
      "outputs": [],
      "source": [
        "# 1,2,3 minutes\n",
        "def obtain_metrics(n_future = [6,12,30], n_past = [80,90,100]):\n",
        "\n",
        "    m_results = {}\n",
        "    for f,p in zip(n_future, n_past):\n",
        "        print(f, p)\n",
        "        train_X, train_y = create_data(train, train_indxs, params_X, params_y, f, p)\n",
        "        test_X, test_y = create_data(test, test_indxs, params_X, params_y, f, p)\n",
        "\n",
        "        train_X, train_y = prepare_data(train_X), prepare_data(train_y)\n",
        "        test_X, test_y = prepare_data(test_X), prepare_data(test_y)\n",
        "\n",
        "        train_X_torch, train_y_torch = to_torch(train_X, True),to_torch(train_y, True)\n",
        "        test_X_torch, test_y_torch = to_torch(test_X, True), to_torch(test_y, True)\n",
        "        input_size = train_X_torch.shape[1]\n",
        "        network = create_esn(input_size, l_r=1.2023444050382561, s_r = 636, h_s=52)\n",
        "        network.fit(train_X_torch, train_y_torch)\n",
        "\n",
        "        results = network(test_X_torch)\n",
        "        m_results['future = '+str(f)+', past = '+str(p)] = get_metrics(results, test_y_torch)\n",
        "    return m_results"
      ]
    },
    {
      "cell_type": "code",
      "execution_count": null,
      "metadata": {
        "id": "g5RkA6luC3XJ"
      },
      "outputs": [],
      "source": [
        "obtain_metrics()"
      ]
    },
    {
      "cell_type": "code",
      "execution_count": null,
      "metadata": {
        "id": "gpcRmiKYYscK"
      },
      "outputs": [],
      "source": [
        "plt.plot(test_y_torch.flatten())\n",
        "plt.plot(results.flatten())"
      ]
    },
    {
      "cell_type": "code",
      "execution_count": null,
      "metadata": {
        "id": "-koE6It6EC6Q"
      },
      "outputs": [],
      "source": [
        "plt.plot(results[1], color = 'r', label = 'pred')\n",
        "plt.plot(test_y_torch[1], color = 'g', label = 'real')\n",
        "plt.legend()"
      ]
    },
    {
      "cell_type": "code",
      "execution_count": null,
      "metadata": {
        "id": "V396n7DA4nKT"
      },
      "outputs": [],
      "source": [
        "{'future = 6, past = 100': {'rmse': tensor(0.0452),\n",
        "  'smape': tensor(86.3030),\n",
        "  'mae': tensor(0.0430)},\n",
        " 'future = 6, past = 80': {'rmse': tensor(0.0275),\n",
        "  'smape': tensor(31.7478),\n",
        "  'mae': tensor(0.0243)},\n",
        " 'future = 12, past = 90': {'rmse': tensor(0.0516),\n",
        "  'smape': tensor(81.0944),\n",
        "  'mae': tensor(0.0463)},\n",
        " 'future = 18, past = 100': {'rmse': tensor(0.0745),\n",
        "  'smape': tensor(144.9349),\n",
        "  'mae': tensor(0.0708)}}"
      ]
    }
  ],
  "metadata": {
    "colab": {
      "provenance": []
    },
    "gpuClass": "standard",
    "kernelspec": {
      "display_name": "Python 3 (ipykernel)",
      "language": "python",
      "name": "python3"
    },
    "language_info": {
      "codemirror_mode": {
        "name": "ipython",
        "version": 3
      },
      "file_extension": ".py",
      "mimetype": "text/x-python",
      "name": "python",
      "nbconvert_exporter": "python",
      "pygments_lexer": "ipython3",
      "version": "3.10.6"
    }
  },
  "nbformat": 4,
  "nbformat_minor": 0
}