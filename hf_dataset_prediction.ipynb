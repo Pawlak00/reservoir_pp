{
  "nbformat": 4,
  "nbformat_minor": 0,
  "metadata": {
    "colab": {
      "provenance": []
    },
    "kernelspec": {
      "name": "python3",
      "display_name": "Python 3"
    },
    "language_info": {
      "name": "python"
    }
  },
  "cells": [
    {
      "cell_type": "code",
      "source": [
        "import pandas as pd\n",
        "import seaborn as sns\n",
        "import matplotlib.pyplot as plt\n",
        "import numpy as np\n",
        "from datetime import timedelta"
      ],
      "metadata": {
        "id": "ID7PQHjxtQ5l"
      },
      "execution_count": null,
      "outputs": []
    },
    {
      "cell_type": "code",
      "source": [
        "from google.colab import drive\n",
        "drive.mount('/content/drive')"
      ],
      "metadata": {
        "colab": {
          "base_uri": "https://localhost:8080/"
        },
        "id": "gO3-oz-3tUP-",
        "outputId": "a4a74cf5-931b-4fb6-db50-2297767418ca"
      },
      "execution_count": null,
      "outputs": [
        {
          "output_type": "stream",
          "name": "stdout",
          "text": [
            "Mounted at /content/drive\n"
          ]
        }
      ]
    },
    {
      "cell_type": "code",
      "source": [
        "data = pd.read_csv('data_hf.csv')"
      ],
      "metadata": {
        "id": "UqrxWxG8tZfb"
      },
      "execution_count": null,
      "outputs": []
    },
    {
      "cell_type": "markdown",
      "source": [
        "General .csv file with all workflows executed"
      ],
      "metadata": {
        "id": "v-_MTtL8CtT_"
      }
    },
    {
      "cell_type": "code",
      "source": [
        "data = data.drop('Unnamed: 0.1', axis = 1)"
      ],
      "metadata": {
        "id": "UjPWxNNetoEa"
      },
      "execution_count": null,
      "outputs": []
    },
    {
      "cell_type": "code",
      "source": [
        "data= data.drop('Unnamed: 0', axis = 1)"
      ],
      "metadata": {
        "id": "3yCQPxQAtymy"
      },
      "execution_count": null,
      "outputs": []
    },
    {
      "cell_type": "code",
      "source": [
        "data.count()"
      ],
      "metadata": {
        "colab": {
          "base_uri": "https://localhost:8080/"
        },
        "id": "W4H2G-z3tlR5",
        "outputId": "d09f5e8d-4ea1-42c2-bb16-808481b138b8"
      },
      "execution_count": null,
      "outputs": [
        {
          "output_type": "execute_result",
          "data": {
            "text/plain": [
              "duration              7850\n",
              "instance              7850\n",
              "hyperflowId           7849\n",
              "cpu_processors        7849\n",
              "cpu_physical_cores    7849\n",
              "cpu_cores             7849\n",
              "cpu_speed             7849\n",
              "nodes                 7849\n",
              "size                  7849\n",
              "workflowName          7849\n",
              "ds                    7849\n",
              "jobs                  7849\n",
              "cpu                   7849\n",
              "memory                7849\n",
              "io_read               7849\n",
              "io_readReal           7849\n",
              "io_readSyscalls       7849\n",
              "io_write              7849\n",
              "io_writeReal          7849\n",
              "io_writeSyscalls      7849\n",
              "network_rxBytes       7849\n",
              "network_rxPackets     7849\n",
              "network_txBytes       7849\n",
              "network_txPackets     7849\n",
              "dtype: int64"
            ]
          },
          "metadata": {},
          "execution_count": 7
        }
      ]
    },
    {
      "cell_type": "code",
      "source": [
        "data = data.set_index('ds')"
      ],
      "metadata": {
        "id": "LL23L3n4u5xO"
      },
      "execution_count": null,
      "outputs": []
    },
    {
      "cell_type": "code",
      "source": [
        "data['duration'] = pd.to_timedelta(data['duration']).dt.total_seconds()*1000000"
      ],
      "metadata": {
        "id": "6hbaFRn4Lhtd"
      },
      "execution_count": null,
      "outputs": []
    },
    {
      "cell_type": "code",
      "source": [
        "data['workflowName'] = data['workflowName'].astype('category')\n",
        "data['workflowName'] = data['workflowName'].cat.codes"
      ],
      "metadata": {
        "id": "M2YAxhQehuVx"
      },
      "execution_count": null,
      "outputs": []
    },
    {
      "cell_type": "code",
      "source": [
        "data['workflowName']"
      ],
      "metadata": {
        "colab": {
          "base_uri": "https://localhost:8080/"
        },
        "id": "PL32ywfgjhfm",
        "outputId": "9fdf131d-06f8-42c3-fa88-8baf46c2baaf"
      },
      "execution_count": null,
      "outputs": [
        {
          "output_type": "execute_result",
          "data": {
            "text/plain": [
              "ds\n",
              "2020-06-20 19:37:26    0\n",
              "2020-06-20 19:37:36    0\n",
              "2020-06-20 19:37:46    0\n",
              "2020-06-20 19:37:56    0\n",
              "2020-06-20 19:38:06    0\n",
              "                      ..\n",
              "2020-06-21 04:07:07    2\n",
              "2020-06-21 04:07:17    2\n",
              "2020-06-21 04:07:27    2\n",
              "2020-06-21 04:07:37    2\n",
              "NaN                   -1\n",
              "Name: workflowName, Length: 7850, dtype: int8"
            ]
          },
          "metadata": {},
          "execution_count": 11
        }
      ]
    },
    {
      "cell_type": "markdown",
      "source": [
        "# Create datasets"
      ],
      "metadata": {
        "id": "wXMWsBr5DJiV"
      }
    },
    {
      "cell_type": "code",
      "source": [
        "dataset = \"montage2_gte_5min\"\n",
        "montage2_gte_5min = data[(data[\"workflowName\"] == 1) & (data['duration'] >= timedelta(minutes=5).total_seconds()*1000000) & (data['duration'] <= timedelta(hours=10).total_seconds()*1000000)].copy()"
      ],
      "metadata": {
        "id": "FK4uUfJmDNE2"
      },
      "execution_count": null,
      "outputs": []
    },
    {
      "cell_type": "code",
      "source": [
        "montage2_gte_5min"
      ],
      "metadata": {
        "colab": {
          "base_uri": "https://localhost:8080/",
          "height": 693
        },
        "id": "VeqYoNSmi42C",
        "outputId": "a513bb50-ad5a-4f95-b85c-cd5a08927a52"
      },
      "execution_count": null,
      "outputs": [
        {
          "output_type": "execute_result",
          "data": {
            "text/plain": [
              "                         duration    instance hyperflowId  cpu_processors  \\\n",
              "ds                                                                          \n",
              "2020-06-01 18:14:43  6.095280e+08    t3.large   QSoqhR3b5             1.0   \n",
              "2020-06-01 18:14:53  6.095280e+08    t3.large   QSoqhR3b5             1.0   \n",
              "2020-06-01 18:15:03  6.095280e+08    t3.large   QSoqhR3b5             1.0   \n",
              "2020-06-01 18:15:13  6.095280e+08    t3.large   QSoqhR3b5             1.0   \n",
              "2020-06-01 18:15:23  6.095280e+08    t3.large   QSoqhR3b5             1.0   \n",
              "...                           ...         ...         ...             ...   \n",
              "2020-05-15 21:43:26  6.385457e+09  unassigned   0B6dSDhPH             1.0   \n",
              "2020-05-15 21:43:36  6.385457e+09  unassigned   0B6dSDhPH             1.0   \n",
              "2020-05-15 21:43:46  6.385457e+09  unassigned   0B6dSDhPH             1.0   \n",
              "2020-05-15 21:43:56  6.385457e+09  unassigned   0B6dSDhPH             1.0   \n",
              "2020-05-15 21:44:06  6.385457e+09  unassigned   0B6dSDhPH             1.0   \n",
              "\n",
              "                     cpu_physical_cores  cpu_cores  cpu_speed  nodes  size  \\\n",
              "ds                                                                           \n",
              "2020-06-01 18:14:43                 2.0        2.0        2.5    3.0  0.25   \n",
              "2020-06-01 18:14:53                 2.0        2.0        2.5    3.0  0.25   \n",
              "2020-06-01 18:15:03                 2.0        2.0        2.5    3.0  0.25   \n",
              "2020-06-01 18:15:13                 2.0        2.0        2.5    3.0  0.25   \n",
              "2020-06-01 18:15:23                 2.0        2.0        2.5    3.0  0.25   \n",
              "...                                 ...        ...        ...    ...   ...   \n",
              "2020-05-15 21:43:26                 4.0        4.0        2.0    0.0  1.00   \n",
              "2020-05-15 21:43:36                 4.0        4.0        2.0    0.0  1.00   \n",
              "2020-05-15 21:43:46                 4.0        4.0        2.0    0.0  1.00   \n",
              "2020-05-15 21:43:56                 4.0        4.0        2.0    0.0  1.00   \n",
              "2020-05-15 21:44:06                 4.0        4.0        2.0    0.0  1.00   \n",
              "\n",
              "                     workflowName  ...       io_read   io_readReal  \\\n",
              "ds                                 ...                               \n",
              "2020-06-01 18:14:43             1  ...  0.000000e+00  0.000000e+00   \n",
              "2020-06-01 18:14:53             1  ...  0.000000e+00  0.000000e+00   \n",
              "2020-06-01 18:15:03             1  ...  0.000000e+00  0.000000e+00   \n",
              "2020-06-01 18:15:13             1  ...  0.000000e+00  0.000000e+00   \n",
              "2020-06-01 18:15:23             1  ...  0.000000e+00  0.000000e+00   \n",
              "...                           ...  ...           ...           ...   \n",
              "2020-05-15 21:43:26             1  ...  2.753092e+07  7.219519e+06   \n",
              "2020-05-15 21:43:36             1  ...  2.340128e+07  6.136591e+06   \n",
              "2020-05-15 21:43:46             1  ...  0.000000e+00  0.000000e+00   \n",
              "2020-05-15 21:43:56             1  ...  0.000000e+00  0.000000e+00   \n",
              "2020-05-15 21:44:06             1  ...  0.000000e+00  0.000000e+00   \n",
              "\n",
              "                     io_readSyscalls  io_write  io_writeReal  \\\n",
              "ds                                                             \n",
              "2020-06-01 18:14:43         0.000000  0.000000           0.0   \n",
              "2020-06-01 18:14:53         0.000000  0.000000           0.0   \n",
              "2020-06-01 18:15:03         0.000000  0.000000           0.0   \n",
              "2020-06-01 18:15:13         0.000000  0.000000           0.0   \n",
              "2020-06-01 18:15:23         0.000000  0.000000           0.0   \n",
              "...                              ...       ...           ...   \n",
              "2020-05-15 21:43:26       945.822222  0.044444           0.0   \n",
              "2020-05-15 21:43:36       803.948889  0.037778           0.0   \n",
              "2020-05-15 21:43:46         0.000000  0.000000           0.0   \n",
              "2020-05-15 21:43:56         0.000000  0.000000           0.0   \n",
              "2020-05-15 21:44:06         0.000000  0.000000           0.0   \n",
              "\n",
              "                     io_writeSyscalls  network_rxBytes  network_rxPackets  \\\n",
              "ds                                                                          \n",
              "2020-06-01 18:14:43          0.000000              0.0                0.0   \n",
              "2020-06-01 18:14:53          0.000000              0.0                0.0   \n",
              "2020-06-01 18:15:03          0.000000              0.0                0.0   \n",
              "2020-06-01 18:15:13          0.000000              0.0                0.0   \n",
              "2020-06-01 18:15:23          0.000000              0.0                0.0   \n",
              "...                               ...              ...                ...   \n",
              "2020-05-15 21:43:26          0.044444              0.0                0.0   \n",
              "2020-05-15 21:43:36          0.037778              0.0                0.0   \n",
              "2020-05-15 21:43:46          0.000000              0.0                0.0   \n",
              "2020-05-15 21:43:56          0.000000              0.0                0.0   \n",
              "2020-05-15 21:44:06          0.000000              0.0                0.0   \n",
              "\n",
              "                     network_txBytes  network_txPackets  \n",
              "ds                                                       \n",
              "2020-06-01 18:14:43              0.0                0.0  \n",
              "2020-06-01 18:14:53              0.0                0.0  \n",
              "2020-06-01 18:15:03              0.0                0.0  \n",
              "2020-06-01 18:15:13              0.0                0.0  \n",
              "2020-06-01 18:15:23              0.0                0.0  \n",
              "...                              ...                ...  \n",
              "2020-05-15 21:43:26              0.0                0.0  \n",
              "2020-05-15 21:43:36              0.0                0.0  \n",
              "2020-05-15 21:43:46              0.0                0.0  \n",
              "2020-05-15 21:43:56              0.0                0.0  \n",
              "2020-05-15 21:44:06              0.0                0.0  \n",
              "\n",
              "[1058 rows x 23 columns]"
            ],
            "text/html": [
              "\n",
              "  <div id=\"df-a2323ff4-4d9b-4d4e-9891-8f71810b3c67\">\n",
              "    <div class=\"colab-df-container\">\n",
              "      <div>\n",
              "<style scoped>\n",
              "    .dataframe tbody tr th:only-of-type {\n",
              "        vertical-align: middle;\n",
              "    }\n",
              "\n",
              "    .dataframe tbody tr th {\n",
              "        vertical-align: top;\n",
              "    }\n",
              "\n",
              "    .dataframe thead th {\n",
              "        text-align: right;\n",
              "    }\n",
              "</style>\n",
              "<table border=\"1\" class=\"dataframe\">\n",
              "  <thead>\n",
              "    <tr style=\"text-align: right;\">\n",
              "      <th></th>\n",
              "      <th>duration</th>\n",
              "      <th>instance</th>\n",
              "      <th>hyperflowId</th>\n",
              "      <th>cpu_processors</th>\n",
              "      <th>cpu_physical_cores</th>\n",
              "      <th>cpu_cores</th>\n",
              "      <th>cpu_speed</th>\n",
              "      <th>nodes</th>\n",
              "      <th>size</th>\n",
              "      <th>workflowName</th>\n",
              "      <th>...</th>\n",
              "      <th>io_read</th>\n",
              "      <th>io_readReal</th>\n",
              "      <th>io_readSyscalls</th>\n",
              "      <th>io_write</th>\n",
              "      <th>io_writeReal</th>\n",
              "      <th>io_writeSyscalls</th>\n",
              "      <th>network_rxBytes</th>\n",
              "      <th>network_rxPackets</th>\n",
              "      <th>network_txBytes</th>\n",
              "      <th>network_txPackets</th>\n",
              "    </tr>\n",
              "    <tr>\n",
              "      <th>ds</th>\n",
              "      <th></th>\n",
              "      <th></th>\n",
              "      <th></th>\n",
              "      <th></th>\n",
              "      <th></th>\n",
              "      <th></th>\n",
              "      <th></th>\n",
              "      <th></th>\n",
              "      <th></th>\n",
              "      <th></th>\n",
              "      <th></th>\n",
              "      <th></th>\n",
              "      <th></th>\n",
              "      <th></th>\n",
              "      <th></th>\n",
              "      <th></th>\n",
              "      <th></th>\n",
              "      <th></th>\n",
              "      <th></th>\n",
              "      <th></th>\n",
              "      <th></th>\n",
              "    </tr>\n",
              "  </thead>\n",
              "  <tbody>\n",
              "    <tr>\n",
              "      <th>2020-06-01 18:14:43</th>\n",
              "      <td>6.095280e+08</td>\n",
              "      <td>t3.large</td>\n",
              "      <td>QSoqhR3b5</td>\n",
              "      <td>1.0</td>\n",
              "      <td>2.0</td>\n",
              "      <td>2.0</td>\n",
              "      <td>2.5</td>\n",
              "      <td>3.0</td>\n",
              "      <td>0.25</td>\n",
              "      <td>1</td>\n",
              "      <td>...</td>\n",
              "      <td>0.000000e+00</td>\n",
              "      <td>0.000000e+00</td>\n",
              "      <td>0.000000</td>\n",
              "      <td>0.000000</td>\n",
              "      <td>0.0</td>\n",
              "      <td>0.000000</td>\n",
              "      <td>0.0</td>\n",
              "      <td>0.0</td>\n",
              "      <td>0.0</td>\n",
              "      <td>0.0</td>\n",
              "    </tr>\n",
              "    <tr>\n",
              "      <th>2020-06-01 18:14:53</th>\n",
              "      <td>6.095280e+08</td>\n",
              "      <td>t3.large</td>\n",
              "      <td>QSoqhR3b5</td>\n",
              "      <td>1.0</td>\n",
              "      <td>2.0</td>\n",
              "      <td>2.0</td>\n",
              "      <td>2.5</td>\n",
              "      <td>3.0</td>\n",
              "      <td>0.25</td>\n",
              "      <td>1</td>\n",
              "      <td>...</td>\n",
              "      <td>0.000000e+00</td>\n",
              "      <td>0.000000e+00</td>\n",
              "      <td>0.000000</td>\n",
              "      <td>0.000000</td>\n",
              "      <td>0.0</td>\n",
              "      <td>0.000000</td>\n",
              "      <td>0.0</td>\n",
              "      <td>0.0</td>\n",
              "      <td>0.0</td>\n",
              "      <td>0.0</td>\n",
              "    </tr>\n",
              "    <tr>\n",
              "      <th>2020-06-01 18:15:03</th>\n",
              "      <td>6.095280e+08</td>\n",
              "      <td>t3.large</td>\n",
              "      <td>QSoqhR3b5</td>\n",
              "      <td>1.0</td>\n",
              "      <td>2.0</td>\n",
              "      <td>2.0</td>\n",
              "      <td>2.5</td>\n",
              "      <td>3.0</td>\n",
              "      <td>0.25</td>\n",
              "      <td>1</td>\n",
              "      <td>...</td>\n",
              "      <td>0.000000e+00</td>\n",
              "      <td>0.000000e+00</td>\n",
              "      <td>0.000000</td>\n",
              "      <td>0.000000</td>\n",
              "      <td>0.0</td>\n",
              "      <td>0.000000</td>\n",
              "      <td>0.0</td>\n",
              "      <td>0.0</td>\n",
              "      <td>0.0</td>\n",
              "      <td>0.0</td>\n",
              "    </tr>\n",
              "    <tr>\n",
              "      <th>2020-06-01 18:15:13</th>\n",
              "      <td>6.095280e+08</td>\n",
              "      <td>t3.large</td>\n",
              "      <td>QSoqhR3b5</td>\n",
              "      <td>1.0</td>\n",
              "      <td>2.0</td>\n",
              "      <td>2.0</td>\n",
              "      <td>2.5</td>\n",
              "      <td>3.0</td>\n",
              "      <td>0.25</td>\n",
              "      <td>1</td>\n",
              "      <td>...</td>\n",
              "      <td>0.000000e+00</td>\n",
              "      <td>0.000000e+00</td>\n",
              "      <td>0.000000</td>\n",
              "      <td>0.000000</td>\n",
              "      <td>0.0</td>\n",
              "      <td>0.000000</td>\n",
              "      <td>0.0</td>\n",
              "      <td>0.0</td>\n",
              "      <td>0.0</td>\n",
              "      <td>0.0</td>\n",
              "    </tr>\n",
              "    <tr>\n",
              "      <th>2020-06-01 18:15:23</th>\n",
              "      <td>6.095280e+08</td>\n",
              "      <td>t3.large</td>\n",
              "      <td>QSoqhR3b5</td>\n",
              "      <td>1.0</td>\n",
              "      <td>2.0</td>\n",
              "      <td>2.0</td>\n",
              "      <td>2.5</td>\n",
              "      <td>3.0</td>\n",
              "      <td>0.25</td>\n",
              "      <td>1</td>\n",
              "      <td>...</td>\n",
              "      <td>0.000000e+00</td>\n",
              "      <td>0.000000e+00</td>\n",
              "      <td>0.000000</td>\n",
              "      <td>0.000000</td>\n",
              "      <td>0.0</td>\n",
              "      <td>0.000000</td>\n",
              "      <td>0.0</td>\n",
              "      <td>0.0</td>\n",
              "      <td>0.0</td>\n",
              "      <td>0.0</td>\n",
              "    </tr>\n",
              "    <tr>\n",
              "      <th>...</th>\n",
              "      <td>...</td>\n",
              "      <td>...</td>\n",
              "      <td>...</td>\n",
              "      <td>...</td>\n",
              "      <td>...</td>\n",
              "      <td>...</td>\n",
              "      <td>...</td>\n",
              "      <td>...</td>\n",
              "      <td>...</td>\n",
              "      <td>...</td>\n",
              "      <td>...</td>\n",
              "      <td>...</td>\n",
              "      <td>...</td>\n",
              "      <td>...</td>\n",
              "      <td>...</td>\n",
              "      <td>...</td>\n",
              "      <td>...</td>\n",
              "      <td>...</td>\n",
              "      <td>...</td>\n",
              "      <td>...</td>\n",
              "      <td>...</td>\n",
              "    </tr>\n",
              "    <tr>\n",
              "      <th>2020-05-15 21:43:26</th>\n",
              "      <td>6.385457e+09</td>\n",
              "      <td>unassigned</td>\n",
              "      <td>0B6dSDhPH</td>\n",
              "      <td>1.0</td>\n",
              "      <td>4.0</td>\n",
              "      <td>4.0</td>\n",
              "      <td>2.0</td>\n",
              "      <td>0.0</td>\n",
              "      <td>1.00</td>\n",
              "      <td>1</td>\n",
              "      <td>...</td>\n",
              "      <td>2.753092e+07</td>\n",
              "      <td>7.219519e+06</td>\n",
              "      <td>945.822222</td>\n",
              "      <td>0.044444</td>\n",
              "      <td>0.0</td>\n",
              "      <td>0.044444</td>\n",
              "      <td>0.0</td>\n",
              "      <td>0.0</td>\n",
              "      <td>0.0</td>\n",
              "      <td>0.0</td>\n",
              "    </tr>\n",
              "    <tr>\n",
              "      <th>2020-05-15 21:43:36</th>\n",
              "      <td>6.385457e+09</td>\n",
              "      <td>unassigned</td>\n",
              "      <td>0B6dSDhPH</td>\n",
              "      <td>1.0</td>\n",
              "      <td>4.0</td>\n",
              "      <td>4.0</td>\n",
              "      <td>2.0</td>\n",
              "      <td>0.0</td>\n",
              "      <td>1.00</td>\n",
              "      <td>1</td>\n",
              "      <td>...</td>\n",
              "      <td>2.340128e+07</td>\n",
              "      <td>6.136591e+06</td>\n",
              "      <td>803.948889</td>\n",
              "      <td>0.037778</td>\n",
              "      <td>0.0</td>\n",
              "      <td>0.037778</td>\n",
              "      <td>0.0</td>\n",
              "      <td>0.0</td>\n",
              "      <td>0.0</td>\n",
              "      <td>0.0</td>\n",
              "    </tr>\n",
              "    <tr>\n",
              "      <th>2020-05-15 21:43:46</th>\n",
              "      <td>6.385457e+09</td>\n",
              "      <td>unassigned</td>\n",
              "      <td>0B6dSDhPH</td>\n",
              "      <td>1.0</td>\n",
              "      <td>4.0</td>\n",
              "      <td>4.0</td>\n",
              "      <td>2.0</td>\n",
              "      <td>0.0</td>\n",
              "      <td>1.00</td>\n",
              "      <td>1</td>\n",
              "      <td>...</td>\n",
              "      <td>0.000000e+00</td>\n",
              "      <td>0.000000e+00</td>\n",
              "      <td>0.000000</td>\n",
              "      <td>0.000000</td>\n",
              "      <td>0.0</td>\n",
              "      <td>0.000000</td>\n",
              "      <td>0.0</td>\n",
              "      <td>0.0</td>\n",
              "      <td>0.0</td>\n",
              "      <td>0.0</td>\n",
              "    </tr>\n",
              "    <tr>\n",
              "      <th>2020-05-15 21:43:56</th>\n",
              "      <td>6.385457e+09</td>\n",
              "      <td>unassigned</td>\n",
              "      <td>0B6dSDhPH</td>\n",
              "      <td>1.0</td>\n",
              "      <td>4.0</td>\n",
              "      <td>4.0</td>\n",
              "      <td>2.0</td>\n",
              "      <td>0.0</td>\n",
              "      <td>1.00</td>\n",
              "      <td>1</td>\n",
              "      <td>...</td>\n",
              "      <td>0.000000e+00</td>\n",
              "      <td>0.000000e+00</td>\n",
              "      <td>0.000000</td>\n",
              "      <td>0.000000</td>\n",
              "      <td>0.0</td>\n",
              "      <td>0.000000</td>\n",
              "      <td>0.0</td>\n",
              "      <td>0.0</td>\n",
              "      <td>0.0</td>\n",
              "      <td>0.0</td>\n",
              "    </tr>\n",
              "    <tr>\n",
              "      <th>2020-05-15 21:44:06</th>\n",
              "      <td>6.385457e+09</td>\n",
              "      <td>unassigned</td>\n",
              "      <td>0B6dSDhPH</td>\n",
              "      <td>1.0</td>\n",
              "      <td>4.0</td>\n",
              "      <td>4.0</td>\n",
              "      <td>2.0</td>\n",
              "      <td>0.0</td>\n",
              "      <td>1.00</td>\n",
              "      <td>1</td>\n",
              "      <td>...</td>\n",
              "      <td>0.000000e+00</td>\n",
              "      <td>0.000000e+00</td>\n",
              "      <td>0.000000</td>\n",
              "      <td>0.000000</td>\n",
              "      <td>0.0</td>\n",
              "      <td>0.000000</td>\n",
              "      <td>0.0</td>\n",
              "      <td>0.0</td>\n",
              "      <td>0.0</td>\n",
              "      <td>0.0</td>\n",
              "    </tr>\n",
              "  </tbody>\n",
              "</table>\n",
              "<p>1058 rows × 23 columns</p>\n",
              "</div>\n",
              "      <button class=\"colab-df-convert\" onclick=\"convertToInteractive('df-a2323ff4-4d9b-4d4e-9891-8f71810b3c67')\"\n",
              "              title=\"Convert this dataframe to an interactive table.\"\n",
              "              style=\"display:none;\">\n",
              "        \n",
              "  <svg xmlns=\"http://www.w3.org/2000/svg\" height=\"24px\"viewBox=\"0 0 24 24\"\n",
              "       width=\"24px\">\n",
              "    <path d=\"M0 0h24v24H0V0z\" fill=\"none\"/>\n",
              "    <path d=\"M18.56 5.44l.94 2.06.94-2.06 2.06-.94-2.06-.94-.94-2.06-.94 2.06-2.06.94zm-11 1L8.5 8.5l.94-2.06 2.06-.94-2.06-.94L8.5 2.5l-.94 2.06-2.06.94zm10 10l.94 2.06.94-2.06 2.06-.94-2.06-.94-.94-2.06-.94 2.06-2.06.94z\"/><path d=\"M17.41 7.96l-1.37-1.37c-.4-.4-.92-.59-1.43-.59-.52 0-1.04.2-1.43.59L10.3 9.45l-7.72 7.72c-.78.78-.78 2.05 0 2.83L4 21.41c.39.39.9.59 1.41.59.51 0 1.02-.2 1.41-.59l7.78-7.78 2.81-2.81c.8-.78.8-2.07 0-2.86zM5.41 20L4 18.59l7.72-7.72 1.47 1.35L5.41 20z\"/>\n",
              "  </svg>\n",
              "      </button>\n",
              "      \n",
              "  <style>\n",
              "    .colab-df-container {\n",
              "      display:flex;\n",
              "      flex-wrap:wrap;\n",
              "      gap: 12px;\n",
              "    }\n",
              "\n",
              "    .colab-df-convert {\n",
              "      background-color: #E8F0FE;\n",
              "      border: none;\n",
              "      border-radius: 50%;\n",
              "      cursor: pointer;\n",
              "      display: none;\n",
              "      fill: #1967D2;\n",
              "      height: 32px;\n",
              "      padding: 0 0 0 0;\n",
              "      width: 32px;\n",
              "    }\n",
              "\n",
              "    .colab-df-convert:hover {\n",
              "      background-color: #E2EBFA;\n",
              "      box-shadow: 0px 1px 2px rgba(60, 64, 67, 0.3), 0px 1px 3px 1px rgba(60, 64, 67, 0.15);\n",
              "      fill: #174EA6;\n",
              "    }\n",
              "\n",
              "    [theme=dark] .colab-df-convert {\n",
              "      background-color: #3B4455;\n",
              "      fill: #D2E3FC;\n",
              "    }\n",
              "\n",
              "    [theme=dark] .colab-df-convert:hover {\n",
              "      background-color: #434B5C;\n",
              "      box-shadow: 0px 1px 3px 1px rgba(0, 0, 0, 0.15);\n",
              "      filter: drop-shadow(0px 1px 2px rgba(0, 0, 0, 0.3));\n",
              "      fill: #FFFFFF;\n",
              "    }\n",
              "  </style>\n",
              "\n",
              "      <script>\n",
              "        const buttonEl =\n",
              "          document.querySelector('#df-a2323ff4-4d9b-4d4e-9891-8f71810b3c67 button.colab-df-convert');\n",
              "        buttonEl.style.display =\n",
              "          google.colab.kernel.accessAllowed ? 'block' : 'none';\n",
              "\n",
              "        async function convertToInteractive(key) {\n",
              "          const element = document.querySelector('#df-a2323ff4-4d9b-4d4e-9891-8f71810b3c67');\n",
              "          const dataTable =\n",
              "            await google.colab.kernel.invokeFunction('convertToInteractive',\n",
              "                                                     [key], {});\n",
              "          if (!dataTable) return;\n",
              "\n",
              "          const docLinkHtml = 'Like what you see? Visit the ' +\n",
              "            '<a target=\"_blank\" href=https://colab.research.google.com/notebooks/data_table.ipynb>data table notebook</a>'\n",
              "            + ' to learn more about interactive tables.';\n",
              "          element.innerHTML = '';\n",
              "          dataTable['output_type'] = 'display_data';\n",
              "          await google.colab.output.renderOutput(dataTable, element);\n",
              "          const docLink = document.createElement('div');\n",
              "          docLink.innerHTML = docLinkHtml;\n",
              "          element.appendChild(docLink);\n",
              "        }\n",
              "      </script>\n",
              "    </div>\n",
              "  </div>\n",
              "  "
            ]
          },
          "metadata": {},
          "execution_count": 13
        }
      ]
    },
    {
      "cell_type": "code",
      "source": [
        "dataset = \"montage2_gte_10min\"\n",
        "montage2_gte_10min = data[(data[\"workflowName\"] == 1) & (data['duration'] >= timedelta(minutes=10).total_seconds()*1000000) & (data['duration'] <= timedelta(hours=10).total_seconds()*1000000)].copy()"
      ],
      "metadata": {
        "id": "YAy1te43Nnc1"
      },
      "execution_count": null,
      "outputs": []
    },
    {
      "cell_type": "code",
      "source": [
        "dataset = \"soykb\"\n",
        "soykb = data[(data[\"workflowName\"] == 2) & (data['duration']< timedelta(hours=13).total_seconds()*1000000)].copy()"
      ],
      "metadata": {
        "id": "GsxgLbmqNzDD"
      },
      "execution_count": null,
      "outputs": []
    },
    {
      "cell_type": "markdown",
      "source": [
        "# Training Data preparation"
      ],
      "metadata": {
        "id": "fzWimlVtO2rm"
      }
    },
    {
      "cell_type": "code",
      "source": [
        "data = montage2_gte_5min\n",
        "data.dtypes"
      ],
      "metadata": {
        "colab": {
          "base_uri": "https://localhost:8080/"
        },
        "id": "lV1hTEotO57h",
        "outputId": "ddf02710-ded5-46bd-c08e-603c39dfaf0b"
      },
      "execution_count": null,
      "outputs": [
        {
          "output_type": "execute_result",
          "data": {
            "text/plain": [
              "duration              float64\n",
              "instance               object\n",
              "hyperflowId            object\n",
              "cpu_processors        float64\n",
              "cpu_physical_cores    float64\n",
              "cpu_cores             float64\n",
              "cpu_speed             float64\n",
              "nodes                 float64\n",
              "size                  float64\n",
              "workflowName             int8\n",
              "jobs                  float64\n",
              "cpu                   float64\n",
              "memory                float64\n",
              "io_read               float64\n",
              "io_readReal           float64\n",
              "io_readSyscalls       float64\n",
              "io_write              float64\n",
              "io_writeReal          float64\n",
              "io_writeSyscalls      float64\n",
              "network_rxBytes       float64\n",
              "network_rxPackets     float64\n",
              "network_txBytes       float64\n",
              "network_txPackets     float64\n",
              "dtype: object"
            ]
          },
          "metadata": {},
          "execution_count": 16
        }
      ]
    },
    {
      "cell_type": "code",
      "source": [
        "def prepare_data(data):\n",
        "    # encode instance information\n",
        "    data['instance'] = data['instance'].astype('category')\n",
        "    data['instance'] = data['instance'].cat.codes\n",
        "    return data"
      ],
      "metadata": {
        "id": "vmCppeEgPUNK"
      },
      "execution_count": null,
      "outputs": []
    },
    {
      "cell_type": "code",
      "source": [
        "def split_train_test(data, ratio = 0.75):\n",
        "    ids = data['hyperflowId'].unique()\n",
        "    train = ids[:int(ratio*len(ids))]\n",
        "    test = ids[int(ratio*len(ids)):]\n",
        "    train_data, test_data = [],[]\n",
        "    for id in train:\n",
        "        train_data.append(data[data['hyperflowId']==id].copy())\n",
        "\n",
        "    for id in test:\n",
        "        test_data.append(data[data['hyperflowId']==id].copy())\n",
        "    return train_data, test_data"
      ],
      "metadata": {
        "id": "-YaidEobRLV5"
      },
      "execution_count": null,
      "outputs": []
    },
    {
      "cell_type": "code",
      "source": [
        "def many_2_many(data, past, future, target_column):\n",
        "    X, Y = [], []\n",
        "    for data_entity in data:\n",
        "        print(data_entity['hyperflowId'])\n",
        "        # print(data_entity.columns)\n",
        "        data_x = data_entity.loc[:, data_entity.columns != target_column]\n",
        "        data_y = data_entity.loc[:, data_entity.columns == target_column]\n",
        "        # print('created data_x, data_y')\n",
        "        # print(data_x.columns, data_y.columns)\n",
        "        for i in range(past, len(data_x)-future):\n",
        "            # print('i=',i, i-past)\n",
        "            # print('data_x past slice: ',data_x)\n",
        "            X.append(np.array(data_x[i-past:i]))\n",
        "            Y.append(np.array(data_y[i:i+future]))\n",
        "    return X,Y"
      ],
      "metadata": {
        "id": "2QLH9A07ZS-i"
      },
      "execution_count": null,
      "outputs": []
    },
    {
      "cell_type": "code",
      "source": [
        "data = prepare_data(montage2_gte_5min)\n",
        "train, test = split_train_test(data)\n",
        "print(len(train), len(test))\n",
        "train_X, train_y = many_2_many(train, past = 20, future = 12, target_column = 'cpu')\n",
        "test_X, test_y = many_2_many(test, past = 20, future = 12, target_column = 'cpu')"
      ],
      "metadata": {
        "colab": {
          "base_uri": "https://localhost:8080/"
        },
        "id": "WYs7Kj_yQnvZ",
        "outputId": "de6e4151-aa8a-4aa8-bbca-9688e97d0ddf"
      },
      "execution_count": null,
      "outputs": [
        {
          "output_type": "stream",
          "name": "stdout",
          "text": [
            "3 1\n",
            "ds\n",
            "2020-06-01 18:14:43    QSoqhR3b5\n",
            "2020-06-01 18:14:53    QSoqhR3b5\n",
            "2020-06-01 18:15:03    QSoqhR3b5\n",
            "2020-06-01 18:15:13    QSoqhR3b5\n",
            "2020-06-01 18:15:23    QSoqhR3b5\n",
            "                         ...    \n",
            "2020-06-01 18:26:53    QSoqhR3b5\n",
            "2020-06-01 18:27:03    QSoqhR3b5\n",
            "2020-06-01 18:27:13    QSoqhR3b5\n",
            "2020-06-01 18:27:23    QSoqhR3b5\n",
            "2020-06-01 18:27:33    QSoqhR3b5\n",
            "Name: hyperflowId, Length: 78, dtype: object\n",
            "ds\n",
            "2020-05-01 11:28:17    k42NF3PAE\n",
            "2020-05-01 11:28:27    k42NF3PAE\n",
            "2020-05-01 11:28:37    k42NF3PAE\n",
            "2020-05-01 11:28:47    k42NF3PAE\n",
            "2020-05-01 11:28:57    k42NF3PAE\n",
            "                         ...    \n",
            "2020-05-01 11:43:07    k42NF3PAE\n",
            "2020-05-01 11:43:17    k42NF3PAE\n",
            "2020-05-01 11:43:27    k42NF3PAE\n",
            "2020-05-01 11:43:37    k42NF3PAE\n",
            "2020-05-01 11:43:47    k42NF3PAE\n",
            "Name: hyperflowId, Length: 94, dtype: object\n",
            "ds\n",
            "2020-06-01 16:30:47    gCbFWakyS\n",
            "2020-06-01 16:30:57    gCbFWakyS\n",
            "2020-06-01 16:31:07    gCbFWakyS\n",
            "2020-06-01 16:31:17    gCbFWakyS\n",
            "2020-06-01 16:31:27    gCbFWakyS\n",
            "                         ...    \n",
            "2020-06-01 17:08:27    gCbFWakyS\n",
            "2020-06-01 17:08:37    gCbFWakyS\n",
            "2020-06-01 17:08:47    gCbFWakyS\n",
            "2020-06-01 17:08:57    gCbFWakyS\n",
            "2020-06-01 17:09:07    gCbFWakyS\n",
            "Name: hyperflowId, Length: 231, dtype: object\n",
            "ds\n",
            "2020-05-15 19:55:06    0B6dSDhPH\n",
            "2020-05-15 19:55:16    0B6dSDhPH\n",
            "2020-05-15 19:55:26    0B6dSDhPH\n",
            "2020-05-15 19:55:36    0B6dSDhPH\n",
            "2020-05-15 19:55:46    0B6dSDhPH\n",
            "                         ...    \n",
            "2020-05-15 21:43:26    0B6dSDhPH\n",
            "2020-05-15 21:43:36    0B6dSDhPH\n",
            "2020-05-15 21:43:46    0B6dSDhPH\n",
            "2020-05-15 21:43:56    0B6dSDhPH\n",
            "2020-05-15 21:44:06    0B6dSDhPH\n",
            "Name: hyperflowId, Length: 655, dtype: object\n"
          ]
        }
      ]
    },
    {
      "cell_type": "code",
      "source": [
        "len(train_X)"
      ],
      "metadata": {
        "colab": {
          "base_uri": "https://localhost:8080/"
        },
        "id": "IJDOy6jLhJ3s",
        "outputId": "9a48a5d7-2295-40fa-8f42-bdd886a823f5"
      },
      "execution_count": null,
      "outputs": [
        {
          "output_type": "execute_result",
          "data": {
            "text/plain": [
              "307"
            ]
          },
          "metadata": {},
          "execution_count": 21
        }
      ]
    },
    {
      "cell_type": "code",
      "source": [
        "train_X[1][0]"
      ],
      "metadata": {
        "colab": {
          "base_uri": "https://localhost:8080/"
        },
        "id": "bH7vhvYjsKyA",
        "outputId": "4cd75c2e-5294-443f-a7dd-f6d6634b8264"
      },
      "execution_count": null,
      "outputs": [
        {
          "output_type": "execute_result",
          "data": {
            "text/plain": [
              "array([609528000.0, 1, 'QSoqhR3b5', 1.0, 2.0, 2.0, 2.5, 3.0, 0.25, 1, 0.0,\n",
              "       0.0, 0.0, 0.0, 0.0, 0.0, 0.0, 0.0, 0.0, 0.0, 0.0, 0.0],\n",
              "      dtype=object)"
            ]
          },
          "metadata": {},
          "execution_count": 22
        }
      ]
    },
    {
      "cell_type": "code",
      "source": [
        "pip install reservoirpy"
      ],
      "metadata": {
        "colab": {
          "base_uri": "https://localhost:8080/",
          "height": 470
        },
        "id": "j8avjCnYvxUQ",
        "outputId": "0fb30042-3671-41f3-9856-b170c99fd49b"
      },
      "execution_count": null,
      "outputs": [
        {
          "output_type": "stream",
          "name": "stdout",
          "text": [
            "Looking in indexes: https://pypi.org/simple, https://us-python.pkg.dev/colab-wheels/public/simple/\n",
            "Collecting reservoirpy\n",
            "  Downloading reservoirpy-0.3.7-py3-none-any.whl (167 kB)\n",
            "\u001b[2K     \u001b[90m━━━━━━━━━━━━━━━━━━━━━━━━━━━━━━━━━━━━━━━\u001b[0m \u001b[32m167.9/167.9 kB\u001b[0m \u001b[31m4.3 MB/s\u001b[0m eta \u001b[36m0:00:00\u001b[0m\n",
            "\u001b[?25hRequirement already satisfied: tqdm>=4.43.0 in /usr/local/lib/python3.10/dist-packages (from reservoirpy) (4.65.0)\n",
            "Requirement already satisfied: joblib>=0.12 in /usr/local/lib/python3.10/dist-packages (from reservoirpy) (1.2.0)\n",
            "Collecting dill>=0.3.0 (from reservoirpy)\n",
            "  Downloading dill-0.3.6-py3-none-any.whl (110 kB)\n",
            "\u001b[2K     \u001b[90m━━━━━━━━━━━━━━━━━━━━━━━━━━━━━━━━━━━━━━\u001b[0m \u001b[32m110.5/110.5 kB\u001b[0m \u001b[31m13.2 MB/s\u001b[0m eta \u001b[36m0:00:00\u001b[0m\n",
            "\u001b[?25hRequirement already satisfied: numpy>=1.21.1 in /usr/local/lib/python3.10/dist-packages (from reservoirpy) (1.22.4)\n",
            "Collecting scipy<=1.7.3,>=1.0.0 (from reservoirpy)\n",
            "  Downloading scipy-1.7.3-cp310-cp310-manylinux_2_17_x86_64.manylinux2014_x86_64.whl (39.9 MB)\n",
            "\u001b[2K     \u001b[90m━━━━━━━━━━━━━━━━━━━━━━━━━━━━━━━━━━━━━━━━\u001b[0m \u001b[32m39.9/39.9 MB\u001b[0m \u001b[31m12.7 MB/s\u001b[0m eta \u001b[36m0:00:00\u001b[0m\n",
            "\u001b[?25hInstalling collected packages: scipy, dill, reservoirpy\n",
            "  Attempting uninstall: scipy\n",
            "    Found existing installation: scipy 1.10.1\n",
            "    Uninstalling scipy-1.10.1:\n",
            "      Successfully uninstalled scipy-1.10.1\n",
            "\u001b[31mERROR: pip's dependency resolver does not currently take into account all the packages that are installed. This behaviour is the source of the following dependency conflicts.\n",
            "arviz 0.15.1 requires scipy>=1.8.0, but you have scipy 1.7.3 which is incompatible.\u001b[0m\u001b[31m\n",
            "\u001b[0mSuccessfully installed dill-0.3.6 reservoirpy-0.3.7 scipy-1.7.3\n"
          ]
        },
        {
          "output_type": "display_data",
          "data": {
            "application/vnd.colab-display-data+json": {
              "pip_warning": {
                "packages": [
                  "scipy"
                ]
              }
            }
          },
          "metadata": {}
        }
      ]
    },
    {
      "cell_type": "code",
      "source": [
        "from reservoirpy.datasets import mackey_glass\n",
        "\n",
        "X = mackey_glass(n_timesteps=2000)"
      ],
      "metadata": {
        "id": "GlWOkaaqv51A"
      },
      "execution_count": null,
      "outputs": []
    },
    {
      "cell_type": "code",
      "source": [
        "from reservoirpy.nodes import Reservoir, Ridge\n",
        "\n",
        "reservoir = Reservoir(units=100, lr=0.3, sr=1.25)\n",
        "readout = Ridge(output_dim=1, ridge=1e-5)"
      ],
      "metadata": {
        "id": "UlnGKzEuv9q3"
      },
      "execution_count": null,
      "outputs": []
    },
    {
      "cell_type": "code",
      "source": [
        "esn = reservoir >> readout"
      ],
      "metadata": {
        "id": "4PeraFTQwAHK"
      },
      "execution_count": null,
      "outputs": []
    },
    {
      "cell_type": "code",
      "source": [
        "esn.fit(X[:500], X[1:501], warmup=100)"
      ],
      "metadata": {
        "colab": {
          "base_uri": "https://localhost:8080/"
        },
        "id": "NbepukxiwC8E",
        "outputId": "8f04f8f8-f2f4-41f8-e8ba-c9112fbea41d"
      },
      "execution_count": null,
      "outputs": [
        {
          "output_type": "stream",
          "name": "stderr",
          "text": [
            "Running Model-0:   0%|          | 0/1 [00:00<?, ?it/s]\n",
            "Running Model-0:   0%|          | 0/1 [00:00<?, ?it/s]\u001b[A\n",
            "Running Model-0: 500it [00:00, 4180.32it/s]\n",
            "Running Model-0: 100%|██████████| 1/1 [00:00<00:00,  7.22it/s]"
          ]
        },
        {
          "output_type": "stream",
          "name": "stdout",
          "text": [
            "Fitting node Ridge-0...\n"
          ]
        },
        {
          "output_type": "stream",
          "name": "stderr",
          "text": [
            "\n"
          ]
        },
        {
          "output_type": "execute_result",
          "data": {
            "text/plain": [
              "'Model-0': Model('Reservoir-0', 'Ridge-0')"
            ]
          },
          "metadata": {},
          "execution_count": 27
        }
      ]
    },
    {
      "cell_type": "code",
      "source": [
        "predictions = esn.fit(X[:500], X[1:501]).run(X[501:-1])"
      ],
      "metadata": {
        "colab": {
          "base_uri": "https://localhost:8080/"
        },
        "id": "eguJXQ6zwF_L",
        "outputId": "5a793def-661b-4efb-f933-c62587f08adb"
      },
      "execution_count": null,
      "outputs": [
        {
          "output_type": "stream",
          "name": "stderr",
          "text": [
            "Running Model-0:   0%|          | 0/1 [00:00<?, ?it/s]\n",
            "Running Model-0:   0%|          | 0/1 [00:00<?, ?it/s]\u001b[A\n",
            "Running Model-0: 500it [00:00, 4178.85it/s]\n",
            "Running Model-0: 100%|██████████| 1/1 [00:00<00:00,  7.46it/s]\n"
          ]
        },
        {
          "output_type": "stream",
          "name": "stdout",
          "text": [
            "Fitting node Ridge-0...\n"
          ]
        },
        {
          "output_type": "stream",
          "name": "stderr",
          "text": [
            "Running Model-0: 1498it [00:00, 5119.03it/s]\n"
          ]
        }
      ]
    },
    {
      "cell_type": "code",
      "source": [
        "from reservoirpy.observables import rmse, rsquare\n",
        "\n",
        "print(\"RMSE:\", rmse(X[502:], predictions), \"R^2 score:\", rsquare(X[502:], predictions))"
      ],
      "metadata": {
        "colab": {
          "base_uri": "https://localhost:8080/"
        },
        "id": "ef6PEn-IwJQ7",
        "outputId": "0cc1a879-5e11-4830-b979-447c6a6a8d10"
      },
      "execution_count": null,
      "outputs": [
        {
          "output_type": "stream",
          "name": "stdout",
          "text": [
            "RMSE: 0.005087983281878836 R^2 score: 0.9995014417644966\n"
          ]
        }
      ]
    },
    {
      "cell_type": "code",
      "source": [
        "!git clone https://github.com/Ro6ertWcislo/AutoESN.git"
      ],
      "metadata": {
        "colab": {
          "base_uri": "https://localhost:8080/"
        },
        "id": "G1Ta3CqIwbrS",
        "outputId": "3523e306-8706-4b29-a80e-81e53f962526"
      },
      "execution_count": null,
      "outputs": [
        {
          "output_type": "stream",
          "name": "stdout",
          "text": [
            "Cloning into 'AutoESN'...\n",
            "remote: Enumerating objects: 598, done.\u001b[K\n",
            "remote: Counting objects: 100% (34/34), done.\u001b[K\n",
            "remote: Compressing objects: 100% (28/28), done.\u001b[K\n",
            "remote: Total 598 (delta 14), reused 6 (delta 6), pack-reused 564\u001b[K\n",
            "Receiving objects: 100% (598/598), 433.19 KiB | 2.23 MiB/s, done.\n",
            "Resolving deltas: 100% (347/347), done.\n"
          ]
        }
      ]
    },
    {
      "cell_type": "code",
      "source": [
        "from AutoESN.src.auto_esn import *"
      ],
      "metadata": {
        "id": "bjeCWI40wpZc"
      },
      "execution_count": null,
      "outputs": []
    }
  ]
}